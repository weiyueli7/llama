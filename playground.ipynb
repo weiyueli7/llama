{
 "cells": [
  {
   "cell_type": "code",
   "execution_count": 29,
   "metadata": {},
   "outputs": [],
   "source": [
    "from transformers import AutoTokenizer, AutoModelForSeq2SeqLM\n",
    "import numpy as np\n",
    "import pandas as pd\n",
    "import torch\n",
    "from datasets import load_dataset\n",
    "from tqdm import tqdm\n",
    "from transformers import AutoModelForSeq2SeqLM, T5EncoderModel, TFBertModel, BertModel, AutoModelForMaskedLM\n",
    "from transformers import AutoTokenizer, BertTokenizer\n",
    "from transformers import GenerationConfig\n",
    "from transformers import AutoTokenizer, AutoModelForCausalLM"
   ]
  },
  {
   "cell_type": "code",
   "execution_count": 30,
   "metadata": {},
   "outputs": [],
   "source": [
    "train_df = pd.read_csv(\"data/ScienceQA/train.csv\")"
   ]
  },
  {
   "cell_type": "code",
   "execution_count": 31,
   "metadata": {},
   "outputs": [
    {
     "data": {
      "application/vnd.jupyter.widget-view+json": {
       "model_id": "14bb846754854f769e5fc2b63c0314f6",
       "version_major": 2,
       "version_minor": 0
      },
      "text/plain": [
       "Downloading (…)okenizer_config.json:   0%|          | 0.00/727 [00:00<?, ?B/s]"
      ]
     },
     "metadata": {},
     "output_type": "display_data"
    },
    {
     "data": {
      "application/vnd.jupyter.widget-view+json": {
       "model_id": "7e75f3fae1954c319f4f9de2864a6344",
       "version_major": 2,
       "version_minor": 0
      },
      "text/plain": [
       "Downloading tokenizer.model:   0%|          | 0.00/500k [00:00<?, ?B/s]"
      ]
     },
     "metadata": {},
     "output_type": "display_data"
    },
    {
     "data": {
      "application/vnd.jupyter.widget-view+json": {
       "model_id": "14ab35c276e144a9b024ad435c7c4206",
       "version_major": 2,
       "version_minor": 0
      },
      "text/plain": [
       "Downloading (…)/main/tokenizer.json:   0%|          | 0.00/1.84M [00:00<?, ?B/s]"
      ]
     },
     "metadata": {},
     "output_type": "display_data"
    },
    {
     "data": {
      "application/vnd.jupyter.widget-view+json": {
       "model_id": "9b3a296664544e4f84fbb70de87e83de",
       "version_major": 2,
       "version_minor": 0
      },
      "text/plain": [
       "Downloading (…)cial_tokens_map.json:   0%|          | 0.00/411 [00:00<?, ?B/s]"
      ]
     },
     "metadata": {},
     "output_type": "display_data"
    },
    {
     "data": {
      "application/vnd.jupyter.widget-view+json": {
       "model_id": "f6006356c28147968ebb33e15a288fef",
       "version_major": 2,
       "version_minor": 0
      },
      "text/plain": [
       "Downloading (…)lve/main/config.json:   0%|          | 0.00/507 [00:00<?, ?B/s]"
      ]
     },
     "metadata": {},
     "output_type": "display_data"
    },
    {
     "data": {
      "application/vnd.jupyter.widget-view+json": {
       "model_id": "80c745eeeec2482fa3beaee1deadd8af",
       "version_major": 2,
       "version_minor": 0
      },
      "text/plain": [
       "Downloading (…)model.bin.index.json:   0%|          | 0.00/26.8k [00:00<?, ?B/s]"
      ]
     },
     "metadata": {},
     "output_type": "display_data"
    },
    {
     "data": {
      "application/vnd.jupyter.widget-view+json": {
       "model_id": "555eab8495e443f99899c743a389a1e1",
       "version_major": 2,
       "version_minor": 0
      },
      "text/plain": [
       "Downloading shards:   0%|          | 0/2 [00:00<?, ?it/s]"
      ]
     },
     "metadata": {},
     "output_type": "display_data"
    },
    {
     "data": {
      "application/vnd.jupyter.widget-view+json": {
       "model_id": "23f648fba9544676b1b5adfab315c604",
       "version_major": 2,
       "version_minor": 0
      },
      "text/plain": [
       "Downloading (…)l-00001-of-00002.bin:   0%|          | 0.00/9.98G [00:00<?, ?B/s]"
      ]
     },
     "metadata": {},
     "output_type": "display_data"
    },
    {
     "data": {
      "application/vnd.jupyter.widget-view+json": {
       "model_id": "057be874988d4f6ea86bb91659c8d662",
       "version_major": 2,
       "version_minor": 0
      },
      "text/plain": [
       "Downloading (…)l-00002-of-00002.bin:   0%|          | 0.00/3.50G [00:00<?, ?B/s]"
      ]
     },
     "metadata": {},
     "output_type": "display_data"
    },
    {
     "data": {
      "application/vnd.jupyter.widget-view+json": {
       "model_id": "25b7519f0bad4ca4995bdf8c005dce94",
       "version_major": 2,
       "version_minor": 0
      },
      "text/plain": [
       "Loading checkpoint shards:   0%|          | 0/2 [00:00<?, ?it/s]"
      ]
     },
     "metadata": {},
     "output_type": "display_data"
    },
    {
     "data": {
      "application/vnd.jupyter.widget-view+json": {
       "model_id": "4438e1efdfae479f82543ba1bdb1757d",
       "version_major": 2,
       "version_minor": 0
      },
      "text/plain": [
       "Downloading (…)neration_config.json:   0%|          | 0.00/137 [00:00<?, ?B/s]"
      ]
     },
     "metadata": {},
     "output_type": "display_data"
    }
   ],
   "source": [
    "# Load model directly\n",
    "from transformers import AutoModelForCausalLM\n",
    "# tokenizer = AutoTokenizer.from_pretrained(\"lmsys/vicuna-7b-v1.5\", use_fast=True)\n",
    "# model = AutoModelForCausalLM.from_pretrained(\"lmsys/vicuna-7b-v1.5\", device_map=\"cuda:1\")\n",
    "\n",
    "tokenizer = AutoTokenizer.from_pretrained(\"daryl149/llama-2-7b-chat-hf\", use_fast=True)\n",
    "model = AutoModelForCausalLM.from_pretrained(\"daryl149/llama-2-7b-chat-hf\", device_map=\"cuda:1\")\n",
    "\n",
    "# tokenizer = AutoTokenizer.from_pretrained(\"google/flan-t5-xl\", use_fast=True)\n",
    "# model = AutoModelForSeq2SeqLM.from_pretrained(\"google/flan-t5-xl\", device_map=\"cuda:1\")"
   ]
  },
  {
   "cell_type": "code",
   "execution_count": 32,
   "metadata": {},
   "outputs": [],
   "source": [
    "train_df = pd.read_csv('data/ScienceQA/train.csv')"
   ]
  },
  {
   "cell_type": "code",
   "execution_count": 33,
   "metadata": {},
   "outputs": [
    {
     "name": "stdout",
     "output_type": "stream",
     "text": [
      "RUNNING ON CUDA\n"
     ]
    }
   ],
   "source": [
    "device = torch.device(\"cuda:1\" if torch.cuda.is_available() else \"cpu\")\n",
    "\n",
    "if device == torch.device(\"cpu\"):\n",
    "    print(\"RUNNING ON CPU\")\n",
    "else:\n",
    "    print(\"RUNNING ON CUDA\")\n",
    "    torch.cuda.synchronize(device)"
   ]
  },
  {
   "cell_type": "code",
   "execution_count": 34,
   "metadata": {},
   "outputs": [
    {
     "name": "stdout",
     "output_type": "stream",
     "text": [
      "Answer the question by chosing one option from below.\n",
      "Which of the following statements accurately describes the impact of Modified Newtonian Dynamics (MOND) on the observed \"missing baryonic mass\" discrepancy in galaxy clusters? \n",
      "A: MOND is a theory that reduces the observed missing baryonic mass in galaxy clusters by postulating the existence of a new form of matter called \"fuzzy dark matter.\"\n",
      "B: MOND is a theory that increases the discrepancy between the observed missing baryonic mass in galaxy clusters and the measured velocity dispersions from a factor of around 10 to a factor of about 20.\n",
      "C: MOND is a theory that explains the missing baryonic mass in galaxy clusters that was previously considered dark matter by demonstrating that the mass is in the form of neutrinos and axions.\n",
      "D: MOND is a theory that reduces the discrepancy between the observed missing baryonic mass in galaxy clusters and the measured velocity dispersions from a factor of around 10 to a factor of about 2.\n",
      "E: MOND is a theory that eliminates the observed missing baryonic mass in galaxy clusters by imposing a new mathematical formulation of gravity that does not require the existence of dark matter.\n",
      "Correct Answer: D\n"
     ]
    }
   ],
   "source": [
    "prefix = '''Answer the question by chosing one option from below.'''\n",
    "suffixes = 'Correct Answer: '\n",
    "question = train_df.loc[0, 'prompt']\n",
    "option_1 = train_df.loc[0, 'A']\n",
    "option_2 = train_df.loc[0, 'B']\n",
    "option_3 = train_df.loc[0, 'C']\n",
    "option_4 = train_df.loc[0, 'D']\n",
    "option_5 = train_df.loc[0, 'E']\n",
    "sample_answer = train_df.loc[0, 'answer']\n",
    "sample_query = f'{prefix}\\n{question} \\nA: {option_1}\\nB: {option_2}\\nC: {option_3}\\nD: {option_4}\\nE: {option_5}\\nCorrect Answer: {sample_answer}'\n",
    "print(sample_query)"
   ]
  },
  {
   "cell_type": "code",
   "execution_count": 35,
   "metadata": {},
   "outputs": [
    {
     "name": "stderr",
     "output_type": "stream",
     "text": [
      "200it [00:00, 11089.00it/s]\n"
     ]
    }
   ],
   "source": [
    "# Function to create prompts\n",
    "def create_prompts(df):\n",
    "    query_prompts = []\n",
    "    sample_answer = ''\n",
    "    for index, rows in tqdm(df.iterrows()):\n",
    "        question = rows['prompt']\n",
    "        option_1 = rows['A']\n",
    "        option_2 = rows['B']\n",
    "        option_3 = rows['C']\n",
    "        option_4 = rows['D']\n",
    "        option_5 = rows['E']\n",
    "        \n",
    "        # query = f'{sample_query}\\n \\n{question} \\nA: {option_1}\\nB: {option_2}\\nC: {option_3}\\nD: {option_4}\\nE: {option_5}\\n{suffixes}\\n'\n",
    "        query = f'You are a helpful assistant on multiple choices questions. Question: {question}\\nOption A: {option_1}\\nOption B: {option_2}\\nOption C: {option_3}\\nOption D: {option_4}\\nOption E: {option_5}\\n Please rank three correct options based on your confidence in descending order and do not provide any explanation.'\n",
    "        query_prompts.append(query)\n",
    "    \n",
    "    return query_prompts\n",
    "        \n",
    "prompts = create_prompts(train_df)"
   ]
  },
  {
   "cell_type": "code",
   "execution_count": 36,
   "metadata": {},
   "outputs": [],
   "source": [
    "# Function to modify a prompt\n",
    "def modify_prompt(answer_set, index):\n",
    "    option = {}\n",
    "    question = train_df.loc[index, 'prompt']\n",
    "    query = f'{sample_query}\\n \\n{question}'\n",
    "    for i in sorted(answer_set):\n",
    "        option[i] = train_df.loc[index, i]\n",
    "        query = query + f'\\n{i}: {train_df.loc[index, i]}'\n",
    "    query = query + f'\\n{suffixes}\\n'\n",
    "    return query"
   ]
  },
  {
   "cell_type": "code",
   "execution_count": 37,
   "metadata": {},
   "outputs": [],
   "source": [
    "def predict_answers(model, tokenizer, prompts):\n",
    "    '''\n",
    "    Funtion to predict one option at a time using Flan T5 - XL model\n",
    "    '''\n",
    "    predictions = []\n",
    "    valid = set(['A', 'B', 'C', 'D', 'E'])\n",
    "    \n",
    "    for index, prompt in tqdm(zip(range(0, len(prompts)), prompts)):\n",
    "        final_pred = []\n",
    "        # Passing the newly constructed prompt instead of the dialogue\n",
    "        tokenized_input = tokenizer(prompt, return_tensors='pt').to(device)\n",
    "        model_output = tokenizer.decode(\n",
    "          model.generate(\n",
    "              tokenized_input['input_ids'],\n",
    "              max_new_tokens=50\n",
    "          )[0],\n",
    "          skip_special_tokens=True\n",
    "        )\n",
    "          \n",
    "        # add remaining letters\n",
    "        to_add = valid - set(final_pred)\n",
    "        count = 0\n",
    "        \n",
    "        # Predicting remaining options by changing the prompts\n",
    "        while to_add:\n",
    "            if len(to_add)<=2:\n",
    "                break\n",
    "            elif count>2:\n",
    "                break\n",
    "            elif count>2 and len(to_add)>3:\n",
    "                final_pred.append(['C A E'])\n",
    "                \n",
    "            prompt_modified = modify_prompt(to_add, index)\n",
    "            tokenized_input = tokenizer(prompt_modified, return_tensors='pt').to(device)\n",
    "            model_output = tokenizer.decode(\n",
    "              model.generate(\n",
    "                  tokenized_input['input_ids'],\n",
    "                  max_new_tokens=50\n",
    "              )[0],\n",
    "              skip_special_tokens=True\n",
    "            )\n",
    "            final_pred.append(model_output)\n",
    "            to_add = valid - set(final_pred)\n",
    "            count += 1\n",
    "        \n",
    "        predictions.append(final_pred)\n",
    "    return predictions"
   ]
  },
  {
   "cell_type": "code",
   "execution_count": 38,
   "metadata": {},
   "outputs": [
    {
     "name": "stderr",
     "output_type": "stream",
     "text": [
      "200it [24:13,  7.27s/it]\n"
     ]
    },
    {
     "data": {
      "text/plain": [
       "['Answer the question by chosing one option from below.\\nWhich of the following statements accurately describes the impact of Modified Newtonian Dynamics (MOND) on the observed \"missing baryonic mass\" discrepancy in galaxy clusters? \\nA: MOND is a theory that reduces the observed missing baryonic mass in galaxy clusters by postulating the existence of a new form of matter called \"fuzzy dark matter.\"\\nB: MOND is a theory that increases the discrepancy between the observed missing baryonic mass in galaxy clusters and the measured velocity dispersions from a factor of around 10 to a factor of about 20.\\nC: MOND is a theory that explains the missing baryonic mass in galaxy clusters that was previously considered dark matter by demonstrating that the mass is in the form of neutrinos and axions.\\nD: MOND is a theory that reduces the discrepancy between the observed missing baryonic mass in galaxy clusters and the measured velocity dispersions from a factor of around 10 to a factor of about 2.\\nE: MOND is a theory that eliminates the observed missing baryonic mass in galaxy clusters by imposing a new mathematical formulation of gravity that does not require the existence of dark matter.\\nCorrect Answer: D\\n \\nWhich of the following statements accurately describes the impact of Modified Newtonian Dynamics (MOND) on the observed \"missing baryonic mass\" discrepancy in galaxy clusters?\\nA: MOND is a theory that reduces the observed missing baryonic mass in galaxy clusters by postulating the existence of a new form of matter called \"fuzzy dark matter.\"\\nB: MOND is a theory that increases the discrepancy between the observed missing baryonic mass in galaxy clusters and the measured velocity dispersions from a factor of around 10 to a factor of about 20.\\nC: MOND is a theory that explains the missing baryonic mass in galaxy clusters that was previously considered dark matter by demonstrating that the mass is in the form of neutrinos and axions.\\nD: MOND is a theory that reduces the discrepancy between the observed missing baryonic mass in galaxy clusters and the measured velocity dispersions from a factor of around 10 to a factor of about 2.\\nE: MOND is a theory that eliminates the observed missing baryonic mass in galaxy clusters by imposing a new mathematical formulation of gravity that does not require the existence of dark matter.\\nCorrect Answer: \\n\\n\\n\\n',\n",
       " 'Answer the question by chosing one option from below.\\nWhich of the following statements accurately describes the impact of Modified Newtonian Dynamics (MOND) on the observed \"missing baryonic mass\" discrepancy in galaxy clusters? \\nA: MOND is a theory that reduces the observed missing baryonic mass in galaxy clusters by postulating the existence of a new form of matter called \"fuzzy dark matter.\"\\nB: MOND is a theory that increases the discrepancy between the observed missing baryonic mass in galaxy clusters and the measured velocity dispersions from a factor of around 10 to a factor of about 20.\\nC: MOND is a theory that explains the missing baryonic mass in galaxy clusters that was previously considered dark matter by demonstrating that the mass is in the form of neutrinos and axions.\\nD: MOND is a theory that reduces the discrepancy between the observed missing baryonic mass in galaxy clusters and the measured velocity dispersions from a factor of around 10 to a factor of about 2.\\nE: MOND is a theory that eliminates the observed missing baryonic mass in galaxy clusters by imposing a new mathematical formulation of gravity that does not require the existence of dark matter.\\nCorrect Answer: D\\n \\nWhich of the following statements accurately describes the impact of Modified Newtonian Dynamics (MOND) on the observed \"missing baryonic mass\" discrepancy in galaxy clusters?\\nA: MOND is a theory that reduces the observed missing baryonic mass in galaxy clusters by postulating the existence of a new form of matter called \"fuzzy dark matter.\"\\nB: MOND is a theory that increases the discrepancy between the observed missing baryonic mass in galaxy clusters and the measured velocity dispersions from a factor of around 10 to a factor of about 20.\\nC: MOND is a theory that explains the missing baryonic mass in galaxy clusters that was previously considered dark matter by demonstrating that the mass is in the form of neutrinos and axions.\\nD: MOND is a theory that reduces the discrepancy between the observed missing baryonic mass in galaxy clusters and the measured velocity dispersions from a factor of around 10 to a factor of about 2.\\nE: MOND is a theory that eliminates the observed missing baryonic mass in galaxy clusters by imposing a new mathematical formulation of gravity that does not require the existence of dark matter.\\nCorrect Answer: \\n\\n\\n\\n',\n",
       " 'Answer the question by chosing one option from below.\\nWhich of the following statements accurately describes the impact of Modified Newtonian Dynamics (MOND) on the observed \"missing baryonic mass\" discrepancy in galaxy clusters? \\nA: MOND is a theory that reduces the observed missing baryonic mass in galaxy clusters by postulating the existence of a new form of matter called \"fuzzy dark matter.\"\\nB: MOND is a theory that increases the discrepancy between the observed missing baryonic mass in galaxy clusters and the measured velocity dispersions from a factor of around 10 to a factor of about 20.\\nC: MOND is a theory that explains the missing baryonic mass in galaxy clusters that was previously considered dark matter by demonstrating that the mass is in the form of neutrinos and axions.\\nD: MOND is a theory that reduces the discrepancy between the observed missing baryonic mass in galaxy clusters and the measured velocity dispersions from a factor of around 10 to a factor of about 2.\\nE: MOND is a theory that eliminates the observed missing baryonic mass in galaxy clusters by imposing a new mathematical formulation of gravity that does not require the existence of dark matter.\\nCorrect Answer: D\\n \\nWhich of the following statements accurately describes the impact of Modified Newtonian Dynamics (MOND) on the observed \"missing baryonic mass\" discrepancy in galaxy clusters?\\nA: MOND is a theory that reduces the observed missing baryonic mass in galaxy clusters by postulating the existence of a new form of matter called \"fuzzy dark matter.\"\\nB: MOND is a theory that increases the discrepancy between the observed missing baryonic mass in galaxy clusters and the measured velocity dispersions from a factor of around 10 to a factor of about 20.\\nC: MOND is a theory that explains the missing baryonic mass in galaxy clusters that was previously considered dark matter by demonstrating that the mass is in the form of neutrinos and axions.\\nD: MOND is a theory that reduces the discrepancy between the observed missing baryonic mass in galaxy clusters and the measured velocity dispersions from a factor of around 10 to a factor of about 2.\\nE: MOND is a theory that eliminates the observed missing baryonic mass in galaxy clusters by imposing a new mathematical formulation of gravity that does not require the existence of dark matter.\\nCorrect Answer: \\n\\n\\n\\n']"
      ]
     },
     "execution_count": 38,
     "metadata": {},
     "output_type": "execute_result"
    }
   ],
   "source": [
    "predictions = predict_answers(model, tokenizer, prompts)\n",
    "predictions[0]"
   ]
  },
  {
   "cell_type": "code",
   "execution_count": 27,
   "metadata": {},
   "outputs": [
    {
     "name": "stdout",
     "output_type": "stream",
     "text": [
      "MAP@3: 0.7025\n",
      "------------------------\n",
      "\n"
     ]
    }
   ],
   "source": [
    "def average_precision_at_k(recommended, relevant, k=3):\n",
    "    if len(recommended) > k:\n",
    "        recommended = recommended[:k]\n",
    "    score = 0.0\n",
    "    num_hits = 0.0\n",
    "    for i, p in enumerate(recommended):\n",
    "        if p in relevant and p not in recommended[:i]:\n",
    "            num_hits += 1.0\n",
    "            score += num_hits / (i + 1.0)\n",
    "    if not relevant:\n",
    "        return 0.0\n",
    "    return score / min(len(relevant), k)\n",
    "\n",
    "def mean_average_precision_at_k(recommended_lists, relevant_lists, k=3):\n",
    "    assert len(recommended_lists) == len(relevant_lists)\n",
    "    return sum(average_precision_at_k(r, rel, k) for r, rel in zip(recommended_lists, relevant_lists)) / len(recommended_lists)\n",
    "\n",
    "label = train_df['answer'].to_numpy().tolist()\n",
    "print(f\"MAP@3: {mean_average_precision_at_k(predictions, label, k=3)}\\n------------------------\\n\")"
   ]
  },
  {
   "cell_type": "code",
   "execution_count": null,
   "metadata": {},
   "outputs": [],
   "source": []
  }
 ],
 "metadata": {
  "kernelspec": {
   "display_name": "Python 3",
   "language": "python",
   "name": "python3"
  },
  "language_info": {
   "codemirror_mode": {
    "name": "ipython",
    "version": 3
   },
   "file_extension": ".py",
   "mimetype": "text/x-python",
   "name": "python",
   "nbconvert_exporter": "python",
   "pygments_lexer": "ipython3",
   "version": "3.10.12"
  },
  "orig_nbformat": 4
 },
 "nbformat": 4,
 "nbformat_minor": 2
}
