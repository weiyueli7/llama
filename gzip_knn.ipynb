{
 "cells": [
  {
   "cell_type": "code",
   "execution_count": 1,
   "metadata": {},
   "outputs": [],
   "source": [
    "import gzip\n",
    "import bz2\n",
    "import lzma\n",
    "# from PIL.PngImagePlugin import getchunks\n",
    "# from PIL import Image\n",
    "import sys\n",
    "from tqdm import tqdm\n",
    "import torch.nn.functional as F\n",
    "\n",
    "\n",
    "import io\n",
    "\n",
    "\n",
    "class DefaultCompressor:\n",
    "    \"\"\"for non-neural-based compressor\"\"\"\n",
    "    def __init__(self, compressor, typ='text'):\n",
    "        if compressor == 'gzip':\n",
    "            self.compressor = gzip\n",
    "        elif compressor == 'bz2':\n",
    "            self.compressor = bz2\n",
    "        elif compressor == 'lzma':\n",
    "            self.compressor = lzma\n",
    "        else:\n",
    "            raise RuntimeError(\"Unsupported compressor\")\n",
    "        self.type = typ\n",
    "    def get_compressed_len(self, x):\n",
    "        if self.type == 'text':\n",
    "            return len(self.compressor.compress(x.encode('utf-8')))\n",
    "        else:\n",
    "            return len(self.compressor.compress(np.array(x).tobytes()))\n",
    "    def get_bits_per_char(self, original_fn):\n",
    "        with open(original_fn) as fo:\n",
    "            data = fo.read()\n",
    "            compressed_str = self.compressor.compress(data.encode('utf-8'))\n",
    "            return len(compressed_str)*8/len(data)"
   ]
  },
  {
   "cell_type": "code",
   "execution_count": 2,
   "metadata": {},
   "outputs": [],
   "source": [
    "import os\n",
    "import torch\n",
    "import numpy as np\n",
    "import statistics\n",
    "import operator\n",
    "from collections import Counter, defaultdict\n",
    "from tqdm import tqdm\n",
    "import random\n",
    "from functools import partial\n",
    "from itertools import repeat\n",
    "from copy import deepcopy\n",
    "from statistics import mode\n",
    "import pickle\n",
    "from sklearn.metrics.cluster import adjusted_rand_score, normalized_mutual_info_score\n",
    "\n",
    "\n",
    "class KnnExpText:\n",
    "    def __init__(self, agg_f, comp, dis):\n",
    "        self.aggregation_func = agg_f\n",
    "        self.compressor = comp\n",
    "        self.distance_func = dis\n",
    "        self.dis_matrix = []\n",
    "\n",
    "    def calc_dis(self, data, train_data=None, fast=False):\n",
    "        if train_data is not None:\n",
    "            data_to_compare = train_data\n",
    "        else:\n",
    "            data_to_compare = data\n",
    "        for i, t1 in tqdm(enumerate(data)):\n",
    "            distance4i = []\n",
    "            if fast:\n",
    "                t1_compressed = self.compressor.get_compressed_len_fast(t1)\n",
    "            else:\n",
    "                t1_compressed = self.compressor.get_compressed_len(t1)\n",
    "            for j, t2 in enumerate(data_to_compare):\n",
    "                if fast:\n",
    "                    t2_compressed = self.compressor.get_compressed_len_fast(t2)\n",
    "                    t1t2_compressed = self.compressor.get_compressed_len_fast(self.aggregation_func(t1,t2))\n",
    "                else:\n",
    "                    t2_compressed = self.compressor.get_compressed_len(t2)\n",
    "                    t1t2_compressed = self.compressor.get_compressed_len(self.aggregation_func(t1, t2))\n",
    "                distance = self.distance_func(t1_compressed, t2_compressed, t1t2_compressed)\n",
    "                distance4i.append(distance)\n",
    "            self.dis_matrix.append(distance4i)\n",
    "\n",
    "    def calc_dis_with_single_compressed_given(self, data, data_len=None, train_data=None):\n",
    "        if train_data is not None:\n",
    "            data_to_compare = train_data\n",
    "        else:\n",
    "            data_to_compare = data\n",
    "        for i, t1 in tqdm(enumerate(data)):\n",
    "            distance4i = []\n",
    "            t1_compressed = self.compressor.get_compressed_len_given_prob(t1, data_len[i])\n",
    "            for j, t2 in tqdm(enumerate(data_to_compare)):\n",
    "                t2_compressed = self.compressor.get_compressed_len_given_prob(t2, data_len[j])\n",
    "                t1t2_compressed = self.compressor.get_compressed_len(self.aggregation_func(t1, t2))\n",
    "                distance = self.distance_func(t1_compressed, t2_compressed, t1t2_compressed)\n",
    "                distance4i.append(distance)\n",
    "            self.dis_matrix.append(distance4i)\n",
    "\n",
    "    def calc_dis_single(self, t1, t2):\n",
    "        t1_compressed = self.compressor.get_compressed_len(t1)\n",
    "        t2_compressed = self.compressor.get_compressed_len(t2)\n",
    "        t1t2_compressed = self.compressor.get_compressed_len(self.aggregation_func(t1, t2))\n",
    "        distance = self.distance_func(t1_compressed, t2_compressed, t1t2_compressed)\n",
    "        return distance\n",
    "    def calc_dis_single_multi(self, train_data, datum):\n",
    "        distance4i = []\n",
    "        t1_compressed = self.compressor.get_compressed_len(datum)\n",
    "        for j, t2 in tqdm(enumerate(train_data)):\n",
    "            t2_compressed = self.compressor.get_compressed_len(t2)\n",
    "            t1t2_compressed = self.compressor.get_compressed_len(self.aggregation_func(datum, t2))\n",
    "            distance = self.distance_func(t1_compressed, t2_compressed, t1t2_compressed)\n",
    "            distance4i.append(distance)\n",
    "        return distance4i\n",
    "    def calc_dis_with_vector(self, data, train_data=None):\n",
    "        if train_data is not None:\n",
    "            data_to_compare = train_data\n",
    "        else:\n",
    "            data_to_compare = data\n",
    "        for i, t1 in tqdm(enumerate(data)):\n",
    "            distance4i = []\n",
    "            for j, t2 in enumerate(data_to_compare):\n",
    "                distance = self.distance_func(t1, t2)\n",
    "                distance4i.append(distance)\n",
    "            self.dis_matrix.append(distance4i)\n",
    "    def calc_acc(self, k, label, train_label=None, provided_distance_matrix=None, rand=False):\n",
    "        if provided_distance_matrix is not None:\n",
    "            self.dis_matrix = provided_distance_matrix\n",
    "        correct = []\n",
    "        pred = []\n",
    "        if train_label is not None:\n",
    "            compare_label = train_label\n",
    "            start = 0\n",
    "            end = k\n",
    "        else:\n",
    "            compare_label = label\n",
    "            start = 1\n",
    "            end = k+1\n",
    "        for i in range(len(self.dis_matrix)):\n",
    "            sorted_idx = np.argsort(np.array(self.dis_matrix[i]))\n",
    "            pred_labels = defaultdict(int)\n",
    "            for j in range(start, end):\n",
    "                pred_l = compare_label[sorted_idx[j]]\n",
    "                pred_labels[pred_l] += 1\n",
    "            sorted_pred_lab = sorted(pred_labels.items(), key=operator.itemgetter(1), reverse=True)\n",
    "            most_count = sorted_pred_lab[0][1]\n",
    "            if_right = 0\n",
    "            most_label = sorted_pred_lab[0][0]\n",
    "            most_voted_labels = []\n",
    "            for pair in sorted_pred_lab:\n",
    "                if pair[1] < most_count:\n",
    "                    break\n",
    "                if not rand:\n",
    "                    if pair[0] == label[i]:\n",
    "                        if_right = 1\n",
    "                        most_label = pair[0]\n",
    "                else:\n",
    "                    most_voted_labels.append(pair[0])\n",
    "            if rand:\n",
    "                most_label = random.choice(most_voted_labels)\n",
    "                if_right = 1 if most_label==label[i] else 0\n",
    "            pred.append(most_label)\n",
    "            correct.append(if_right)\n",
    "        print(\"Accuracy is {}\".format(sum(correct)/len(correct)))\n",
    "        return pred, correct\n",
    "    def combine_dis_acc(self, k, data, label, train_data=None, train_label=None):\n",
    "        correct = []\n",
    "        pred = []\n",
    "        if train_label is not None:\n",
    "            compare_label = train_label\n",
    "            start = 0\n",
    "            end = k\n",
    "        else:\n",
    "            compare_label = label\n",
    "            start = 1\n",
    "            end = k+1\n",
    "        if train_data is not None:\n",
    "            data_to_compare = train_data\n",
    "        else:\n",
    "            data_to_compare = data\n",
    "        for i, t1 in tqdm(enumerate(data)):\n",
    "            distance4i = self.calc_dis_single_multi(data_to_compare, t1)\n",
    "            sorted_idx = np.argsort(np.array(distance4i))\n",
    "            pred_labels = defaultdict(int)\n",
    "            for j in range(start, end):\n",
    "                pred_l = compare_label[sorted_idx[j]]\n",
    "                pred_labels[pred_l] += 1\n",
    "            sorted_pred_lab = sorted(pred_labels.items(), key=operator.itemgetter(1), reverse=True)\n",
    "            most_count = sorted_pred_lab[0][1]\n",
    "            if_right = 0\n",
    "            most_label = sorted_pred_lab[0][0]\n",
    "            for pair in sorted_pred_lab:\n",
    "                if pair[1] < most_count:\n",
    "                    break\n",
    "                if pair[0] == label[i]:\n",
    "                    if_right = 1\n",
    "                    most_label = pair[0]\n",
    "            pred.append(most_label)\n",
    "            correct.append(if_right)\n",
    "        print(\"Accuracy is {}\".format(sum(correct) / len(correct)))\n",
    "        return pred, correct\n",
    "\n",
    "    def combine_dis_acc_single(self, k, train_data, train_label, datum, label):\n",
    "        # Support multi processing - must provide train data and train label\n",
    "        distance4i = self.calc_dis_single_multi(train_data, datum)\n",
    "        sorted_idx = np.argpartition(np.array(distance4i), range(k))\n",
    "        pred_labels = defaultdict(int)\n",
    "        for j in range(k):\n",
    "            pred_l = train_label[sorted_idx[j]]\n",
    "            pred_labels[pred_l] += 1\n",
    "        sorted_pred_lab = sorted(pred_labels.items(), key=operator.itemgetter(1), reverse=True)\n",
    "        most_count = sorted_pred_lab[0][1]\n",
    "        if_right = 0\n",
    "        most_label = sorted_pred_lab[0][0]\n",
    "        prob = sorted_pred_lab[0][0]\n",
    "        for pair in sorted_pred_lab:\n",
    "            if pair[1] < most_count:\n",
    "                break\n",
    "            if pair[0] == label:\n",
    "                if_right = 1\n",
    "                most_label = pair[0]\n",
    "        pred=most_label\n",
    "        correct=if_right\n",
    "        return pred, correct"
   ]
  },
  {
   "cell_type": "code",
   "execution_count": 3,
   "metadata": {},
   "outputs": [],
   "source": [
    "from scipy.spatial.distance import cosine\n",
    "import numpy as np\n",
    "import torch\n",
    "import scipy\n",
    "\n",
    "class ToInt:\n",
    "    def __call__(self, pic):\n",
    "        return pic * 255\n",
    "\n",
    "def NCD(c1, c2, c12):\n",
    "    dis = (c12-min(c1,c2))/max(c1, c2)\n",
    "    return dis\n",
    "\n",
    "def CLM(c1, c2, c12):\n",
    "    dis = 1 - (c1+c2-c12)/c12\n",
    "    return dis\n",
    "\n",
    "def CDM(c1, c2, c12):\n",
    "    dis = c12/(c1+c2)\n",
    "    return dis\n",
    "\n",
    "def MSE(v1, v2):\n",
    "    return np.sum((v1-v2)**2)/len(v1)\n",
    "\n",
    "def agg_by_concat_space(t1, t2):\n",
    "    return t1+' '+t2\n",
    "\n",
    "def agg_by_jag_word(t1, t2, trunc=True):\n",
    "    t1_list = t1.split(' ')\n",
    "    t2_list = t2.split(' ')\n",
    "    comb = []\n",
    "    l = min([len(t1_list), len(t2_list)])\n",
    "    for i in range(0,l-1,2):\n",
    "        comb.append(t1_list[i])\n",
    "        comb.append(t2_list[i+1])\n",
    "    if len(t1_list) > len(t2_list):\n",
    "        comb += t1_list[i:]\n",
    "    return ' '.join(comb)\n",
    "\n",
    "def agg_by_jag_char(t1, t2, trunc=True):\n",
    "    t1_list = list(t1)\n",
    "    t2_list = list(t2)\n",
    "    comb = []\n",
    "    l = min([len(t1_list), len(t2_list)])\n",
    "    for i in range(0,l-1,2):\n",
    "        comb.append(t1_list[i])\n",
    "        comb.append(t2_list[i+1])\n",
    "    if len(t1_list) > len(t2_list):\n",
    "        comb += t1_list[i:]\n",
    "    return ''.join(comb)\n",
    "\n",
    "def agg_by_avg(i1, i2):\n",
    "    return torch.div(i1+i2, 2, rounding_mode='trunc')\n",
    "\n",
    "def agg_by_min_or_max(i1, i2, func_n):\n",
    "    stacked = torch.stack([i1, i2], axis=0)\n",
    "    if func_n == 'min':\n",
    "        return torch.min(stacked, axis=0)[0]\n",
    "    else:\n",
    "        return torch.max(stacked, axis=0)[0]\n",
    "\n",
    "def agg_by_stack(i1, i2):\n",
    "    return torch.stack([i1, i2])\n",
    "\n",
    "def mean_confidence_interval(data, confidence=0.95):\n",
    "    a = 1.0 * np.array(data)\n",
    "    n = len(a)\n",
    "    m, se = np.mean(a), scipy.stats.sem(a)\n",
    "    h = se * scipy.stats.t.ppf((1 + confidence) / 2., n-1)\n",
    "    return m, h"
   ]
  },
  {
   "cell_type": "code",
   "execution_count": 4,
   "metadata": {},
   "outputs": [],
   "source": [
    "from functools import partial\n",
    "from pathos.multiprocessing import ProcessingPool as Pool\n",
    "import time\n",
    "# np.random.seed(6)\n",
    "\n",
    "def non_neural_knn_exp(compressor_name, test_data, test_label, train_data, train_label, agg_func, dis_func, k, para=True):\n",
    "    print(\"KNN with compressor={}\".format(compressor_name))\n",
    "    cp = DefaultCompressor(compressor_name)\n",
    "    knn_exp_ins = KnnExpText(agg_func, cp, dis_func)\n",
    "    start = time.time()\n",
    "    if para:\n",
    "        with Pool(5) as p:\n",
    "            pred_correct_pair = p.map(partial(knn_exp_ins.combine_dis_acc_single, k, train_data, train_label), test_data, test_label)\n",
    "        print('accuracy:{}'.format(np.average(np.array(pred_correct_pair, dtype=np.int32)[:,1])))\n",
    "        # print('accuracy:{}'.format(np.average(np.array(pred_correct_pair, dtype=np.object_)[:, 1])))\n",
    "    else:\n",
    "        knn_exp_ins.calc_dis(test_data, train_data=train_data)\n",
    "        knn_exp_ins.calc_acc(k, test_label, train_label=train_label)\n",
    "    print(\"spent: {}\".format(time.time() - start))\n",
    "\n",
    "def record_distance(compressor_name, test_data, test_portion_name, train_data, agg_func, dis_func, out_dir, para=True):\n",
    "    print(\"compressor={}\".format(compressor_name))\n",
    "#     numpy_dir = os.path.join(out_dir, compressor_name)\n",
    "#     if not os.path.exists(numpy_dir):\n",
    "#         os.makedirs(numpy_dir)\n",
    "#     out_fn = os.path.join(numpy_dir, test_portion_name)\n",
    "    cp = DefaultCompressor(compressor_name)\n",
    "    knn_exp = KnnExpText(agg_func, cp, dis_func)\n",
    "    start = time.time()\n",
    "    if para:\n",
    "        with Pool(6) as p:\n",
    "            distance_for_selected_test = p.map(partial(knn_exp.calc_dis_single_multi, train_data), test_data)\n",
    "#         np.save(out_fn, np.array(distance_for_selected_test))\n",
    "        del distance_for_selected_test\n",
    "    else:\n",
    "        knn_exp.calc_dis(test_data, train_data=train_data)\n",
    "#         np.save(out_fn, np.array(knn_exp.dis_matrix))\n",
    "    print(\"spent: {}\".format(time.time() - start))\n",
    "    return np.array(knn_exp.dis_matrix)\n",
    "\n",
    "\n",
    "def non_neurl_knn_exp_given_dis(dis_matrix, k, test_label, train_label):\n",
    "    knn_exp = KnnExpText(None, None, None)\n",
    "    pred, correct = knn_exp.calc_acc(k, test_label, train_label=train_label, provided_distance_matrix=dis_matrix)\n",
    "    return pred, correct"
   ]
  },
  {
   "cell_type": "code",
   "execution_count": 5,
   "metadata": {},
   "outputs": [],
   "source": [
    "# We'll create a dictionary to convert option names (A, B, C, D, E) into indices and back again\n",
    "options = 'ABCDE'\n",
    "indices = list(range(5))\n",
    "\n",
    "option_to_index = {option: index for option, index in zip(options, indices)}\n",
    "index_to_option = {index: option for option, index in zip(options, indices)}\n",
    "\n",
    "def preprocess(example):\n",
    "    # The AutoModelForMultipleChoice class expects a set of question/answer pairs\n",
    "    # so we'll copy our question 5 times before tokenizing\n",
    "    \n",
    "    first_sentence = [example['prompt']] * 5\n",
    "    second_sentence = []\n",
    "    for option in options:\n",
    "        second_sentence.append(example[option])\n",
    "    # Our tokenizer will turn our text into token IDs BERT can understand\n",
    "    df['text'] = second_sentence\n",
    "    df['answer'] = option_to_index[example['answer']]\n",
    "    return df"
   ]
  },
  {
   "cell_type": "code",
   "execution_count": 6,
   "metadata": {},
   "outputs": [],
   "source": [
    "import pandas as pd\n",
    "train = pd.read_csv(\"data/ScienceQA/train.csv\")\n",
    "df = pd.DataFrame()\n",
    "first = []\n",
    "secend = []\n",
    "answer = []\n",
    "for index, data in train.iterrows():\n",
    "    for j in options:\n",
    "        first.append(data['prompt'])\n",
    "        secend.append(data[j])\n",
    "        if j == data['answer']:\n",
    "            answer.append(1)\n",
    "        else:\n",
    "            answer.append(0)\n",
    "            \n",
    "df['first'] = first\n",
    "df['secend'] = secend\n",
    "df['answer'] = answer"
   ]
  },
  {
   "cell_type": "code",
   "execution_count": 7,
   "metadata": {},
   "outputs": [],
   "source": [
    "test = pd.read_csv(\"data/ScienceQA/test.csv\")\n",
    "\n",
    "df2 = pd.DataFrame()\n",
    "first = []\n",
    "secend = []\n",
    "answer = []\n",
    "id_ = []\n",
    "for index, data in test.iterrows():\n",
    "    for j in options:\n",
    "        id_.append(index)\n",
    "        first.append(data['prompt'])\n",
    "        secend.append(data[j])\n",
    "        answer.append(0)\n",
    "df2['id'] = id_\n",
    "df2['first'] = first\n",
    "df2['secend'] = secend\n",
    "df2['answer'] = answer"
   ]
  },
  {
   "cell_type": "code",
   "execution_count": 8,
   "metadata": {},
   "outputs": [
    {
     "name": "stdout",
     "output_type": "stream",
     "text": [
      "compressor=gzip\n"
     ]
    },
    {
     "name": "stderr",
     "output_type": "stream",
     "text": [
      "175it [00:00, 7761.97it/s]\n"
     ]
    },
    {
     "name": "stdout",
     "output_type": "stream",
     "text": [
      "spent: 0.024910926818847656\n",
      "compressor=gzip\n"
     ]
    },
    {
     "name": "stderr",
     "output_type": "stream",
     "text": [
      "92it [00:00, 7448.77it/s]\n"
     ]
    },
    {
     "name": "stdout",
     "output_type": "stream",
     "text": [
      "spent: 0.013438940048217773\n",
      "compressor=gzip\n"
     ]
    },
    {
     "name": "stderr",
     "output_type": "stream",
     "text": [
      "107it [00:00, 7199.08it/s]\n"
     ]
    },
    {
     "name": "stdout",
     "output_type": "stream",
     "text": [
      "spent: 0.01615619659423828\n",
      "compressor=gzip\n"
     ]
    },
    {
     "name": "stderr",
     "output_type": "stream",
     "text": [
      "91it [00:00, 7575.15it/s]\n"
     ]
    },
    {
     "name": "stdout",
     "output_type": "stream",
     "text": [
      "spent: 0.013070821762084961\n",
      "compressor=gzip\n"
     ]
    },
    {
     "name": "stderr",
     "output_type": "stream",
     "text": [
      "182it [00:00, 7733.39it/s]\n"
     ]
    },
    {
     "name": "stdout",
     "output_type": "stream",
     "text": [
      "spent: 0.024556875228881836\n",
      "compressor=gzip\n"
     ]
    },
    {
     "name": "stderr",
     "output_type": "stream",
     "text": [
      "154it [00:00, 6693.08it/s]\n"
     ]
    },
    {
     "name": "stdout",
     "output_type": "stream",
     "text": [
      "spent: 0.02410125732421875\n",
      "compressor=gzip\n"
     ]
    },
    {
     "name": "stderr",
     "output_type": "stream",
     "text": [
      "98it [00:00, 7753.90it/s]\n"
     ]
    },
    {
     "name": "stdout",
     "output_type": "stream",
     "text": [
      "spent: 0.013774871826171875\n",
      "compressor=gzip\n"
     ]
    },
    {
     "name": "stderr",
     "output_type": "stream",
     "text": [
      "126it [00:00, 7490.68it/s]\n"
     ]
    },
    {
     "name": "stdout",
     "output_type": "stream",
     "text": [
      "spent: 0.017940044403076172\n",
      "compressor=gzip\n"
     ]
    },
    {
     "name": "stderr",
     "output_type": "stream",
     "text": [
      "126it [00:00, 10000.80it/s]\n"
     ]
    },
    {
     "name": "stdout",
     "output_type": "stream",
     "text": [
      "spent: 0.0137176513671875\n",
      "compressor=gzip\n"
     ]
    },
    {
     "name": "stderr",
     "output_type": "stream",
     "text": [
      "46it [00:00, 7691.98it/s]\n"
     ]
    },
    {
     "name": "stdout",
     "output_type": "stream",
     "text": [
      "spent: 0.007005453109741211\n",
      "compressor=gzip\n"
     ]
    },
    {
     "name": "stderr",
     "output_type": "stream",
     "text": [
      "79it [00:00, 7146.71it/s]\n"
     ]
    },
    {
     "name": "stdout",
     "output_type": "stream",
     "text": [
      "spent: 0.012115716934204102\n",
      "compressor=gzip\n"
     ]
    },
    {
     "name": "stderr",
     "output_type": "stream",
     "text": [
      "85it [00:00, 7606.32it/s]\n"
     ]
    },
    {
     "name": "stdout",
     "output_type": "stream",
     "text": [
      "spent: 0.012273073196411133\n",
      "compressor=gzip\n"
     ]
    },
    {
     "name": "stderr",
     "output_type": "stream",
     "text": [
      "277it [00:00, 7398.54it/s]\n"
     ]
    },
    {
     "name": "stdout",
     "output_type": "stream",
     "text": [
      "spent: 0.03855133056640625\n",
      "compressor=gzip\n"
     ]
    },
    {
     "name": "stderr",
     "output_type": "stream",
     "text": [
      "24it [00:00, 6843.19it/s]\n"
     ]
    },
    {
     "name": "stdout",
     "output_type": "stream",
     "text": [
      "spent: 0.004607200622558594\n",
      "compressor=gzip\n"
     ]
    },
    {
     "name": "stderr",
     "output_type": "stream",
     "text": [
      "85it [00:00, 7490.30it/s]\n"
     ]
    },
    {
     "name": "stdout",
     "output_type": "stream",
     "text": [
      "spent: 0.012416601181030273\n",
      "compressor=gzip\n"
     ]
    },
    {
     "name": "stderr",
     "output_type": "stream",
     "text": [
      "38it [00:00, 8256.93it/s]\n"
     ]
    },
    {
     "name": "stdout",
     "output_type": "stream",
     "text": [
      "spent: 0.005627870559692383\n",
      "compressor=gzip\n"
     ]
    },
    {
     "name": "stderr",
     "output_type": "stream",
     "text": [
      "67it [00:00, 8880.90it/s]\n"
     ]
    },
    {
     "name": "stdout",
     "output_type": "stream",
     "text": [
      "spent: 0.008536100387573242\n",
      "compressor=gzip\n"
     ]
    },
    {
     "name": "stderr",
     "output_type": "stream",
     "text": [
      "29it [00:00, 7635.58it/s]\n"
     ]
    },
    {
     "name": "stdout",
     "output_type": "stream",
     "text": [
      "spent: 0.004951953887939453\n",
      "compressor=gzip\n"
     ]
    },
    {
     "name": "stderr",
     "output_type": "stream",
     "text": [
      "77it [00:00, 8095.29it/s]\n"
     ]
    },
    {
     "name": "stdout",
     "output_type": "stream",
     "text": [
      "spent: 0.010487079620361328\n",
      "compressor=gzip\n"
     ]
    },
    {
     "name": "stderr",
     "output_type": "stream",
     "text": [
      "44it [00:00, 6889.77it/s]\n"
     ]
    },
    {
     "name": "stdout",
     "output_type": "stream",
     "text": [
      "spent: 0.00734400749206543\n",
      "compressor=gzip\n"
     ]
    },
    {
     "name": "stderr",
     "output_type": "stream",
     "text": [
      "124it [00:00, 8451.17it/s]\n"
     ]
    },
    {
     "name": "stdout",
     "output_type": "stream",
     "text": [
      "spent: 0.015665054321289062\n",
      "compressor=gzip\n"
     ]
    },
    {
     "name": "stderr",
     "output_type": "stream",
     "text": [
      "53it [00:00, 8152.34it/s]\n"
     ]
    },
    {
     "name": "stdout",
     "output_type": "stream",
     "text": [
      "spent: 0.007460594177246094\n",
      "compressor=gzip\n"
     ]
    },
    {
     "name": "stderr",
     "output_type": "stream",
     "text": [
      "40it [00:00, 7635.38it/s]\n"
     ]
    },
    {
     "name": "stdout",
     "output_type": "stream",
     "text": [
      "spent: 0.00621795654296875\n",
      "compressor=gzip\n"
     ]
    },
    {
     "name": "stderr",
     "output_type": "stream",
     "text": [
      "48it [00:00, 7996.77it/s]\n"
     ]
    },
    {
     "name": "stdout",
     "output_type": "stream",
     "text": [
      "spent: 0.006949663162231445\n",
      "compressor=gzip\n"
     ]
    },
    {
     "name": "stderr",
     "output_type": "stream",
     "text": [
      "60it [00:00, 9479.01it/s]\n"
     ]
    },
    {
     "name": "stdout",
     "output_type": "stream",
     "text": [
      "spent: 0.007283449172973633\n",
      "compressor=gzip\n"
     ]
    },
    {
     "name": "stderr",
     "output_type": "stream",
     "text": [
      "50it [00:00, 7765.79it/s]\n"
     ]
    },
    {
     "name": "stdout",
     "output_type": "stream",
     "text": [
      "spent: 0.007394552230834961\n",
      "compressor=gzip\n"
     ]
    },
    {
     "name": "stderr",
     "output_type": "stream",
     "text": [
      "93it [00:00, 7850.87it/s]\n"
     ]
    },
    {
     "name": "stdout",
     "output_type": "stream",
     "text": [
      "spent: 0.012807369232177734\n",
      "compressor=gzip\n"
     ]
    },
    {
     "name": "stderr",
     "output_type": "stream",
     "text": [
      "45it [00:00, 7478.55it/s]\n"
     ]
    },
    {
     "name": "stdout",
     "output_type": "stream",
     "text": [
      "spent: 0.006960153579711914\n",
      "compressor=gzip\n"
     ]
    },
    {
     "name": "stderr",
     "output_type": "stream",
     "text": [
      "106it [00:00, 6287.69it/s]\n"
     ]
    },
    {
     "name": "stdout",
     "output_type": "stream",
     "text": [
      "spent: 0.01782512664794922\n",
      "compressor=gzip\n"
     ]
    },
    {
     "name": "stderr",
     "output_type": "stream",
     "text": [
      "53it [00:00, 8185.36it/s]\n"
     ]
    },
    {
     "name": "stdout",
     "output_type": "stream",
     "text": [
      "spent: 0.0076885223388671875\n",
      "compressor=gzip\n"
     ]
    },
    {
     "name": "stderr",
     "output_type": "stream",
     "text": [
      "26it [00:00, 6800.02it/s]\n"
     ]
    },
    {
     "name": "stdout",
     "output_type": "stream",
     "text": [
      "spent: 0.004815101623535156\n",
      "compressor=gzip\n"
     ]
    },
    {
     "name": "stderr",
     "output_type": "stream",
     "text": [
      "91it [00:00, 9537.75it/s]\n"
     ]
    },
    {
     "name": "stdout",
     "output_type": "stream",
     "text": [
      "spent: 0.010471105575561523\n",
      "compressor=gzip\n"
     ]
    },
    {
     "name": "stderr",
     "output_type": "stream",
     "text": [
      "41it [00:00, 6855.35it/s]\n"
     ]
    },
    {
     "name": "stdout",
     "output_type": "stream",
     "text": [
      "spent: 0.006977081298828125\n",
      "compressor=gzip\n"
     ]
    },
    {
     "name": "stderr",
     "output_type": "stream",
     "text": [
      "80it [00:00, 7378.49it/s]\n"
     ]
    },
    {
     "name": "stdout",
     "output_type": "stream",
     "text": [
      "spent: 0.011872529983520508\n",
      "compressor=gzip\n"
     ]
    },
    {
     "name": "stderr",
     "output_type": "stream",
     "text": [
      "28it [00:00, 7120.63it/s]\n"
     ]
    },
    {
     "name": "stdout",
     "output_type": "stream",
     "text": [
      "spent: 0.0050280094146728516\n",
      "compressor=gzip\n"
     ]
    },
    {
     "name": "stderr",
     "output_type": "stream",
     "text": [
      "55it [00:00, 8263.31it/s]\n"
     ]
    },
    {
     "name": "stdout",
     "output_type": "stream",
     "text": [
      "spent: 0.007643461227416992\n",
      "compressor=gzip\n"
     ]
    },
    {
     "name": "stderr",
     "output_type": "stream",
     "text": [
      "66it [00:00, 6652.35it/s]\n"
     ]
    },
    {
     "name": "stdout",
     "output_type": "stream",
     "text": [
      "spent: 0.010897397994995117\n",
      "compressor=gzip\n"
     ]
    },
    {
     "name": "stderr",
     "output_type": "stream",
     "text": [
      "111it [00:00, 8581.74it/s]\n"
     ]
    },
    {
     "name": "stdout",
     "output_type": "stream",
     "text": [
      "spent: 0.01398921012878418\n",
      "compressor=gzip\n"
     ]
    },
    {
     "name": "stderr",
     "output_type": "stream",
     "text": [
      "32it [00:00, 7756.01it/s]\n"
     ]
    },
    {
     "name": "stdout",
     "output_type": "stream",
     "text": [
      "spent: 0.0051190853118896484\n",
      "compressor=gzip\n"
     ]
    },
    {
     "name": "stderr",
     "output_type": "stream",
     "text": [
      "44it [00:00, 7875.62it/s]\n"
     ]
    },
    {
     "name": "stdout",
     "output_type": "stream",
     "text": [
      "spent: 0.006547212600708008\n",
      "compressor=gzip\n"
     ]
    },
    {
     "name": "stderr",
     "output_type": "stream",
     "text": [
      "38it [00:00, 7112.80it/s]\n"
     ]
    },
    {
     "name": "stdout",
     "output_type": "stream",
     "text": [
      "spent: 0.006325960159301758\n",
      "compressor=gzip\n"
     ]
    },
    {
     "name": "stderr",
     "output_type": "stream",
     "text": [
      "50it [00:00, 8234.78it/s]\n"
     ]
    },
    {
     "name": "stdout",
     "output_type": "stream",
     "text": [
      "spent: 0.007044076919555664\n",
      "compressor=gzip\n"
     ]
    },
    {
     "name": "stderr",
     "output_type": "stream",
     "text": [
      "106it [00:00, 9763.83it/s]\n"
     ]
    },
    {
     "name": "stdout",
     "output_type": "stream",
     "text": [
      "spent: 0.011838912963867188\n",
      "compressor=gzip\n"
     ]
    },
    {
     "name": "stderr",
     "output_type": "stream",
     "text": [
      "52it [00:00, 6745.13it/s]\n"
     ]
    },
    {
     "name": "stdout",
     "output_type": "stream",
     "text": [
      "spent: 0.008678436279296875\n",
      "compressor=gzip\n"
     ]
    },
    {
     "name": "stderr",
     "output_type": "stream",
     "text": [
      "28it [00:00, 5857.67it/s]\n"
     ]
    },
    {
     "name": "stdout",
     "output_type": "stream",
     "text": [
      "spent: 0.005747079849243164\n",
      "compressor=gzip\n"
     ]
    },
    {
     "name": "stderr",
     "output_type": "stream",
     "text": [
      "28it [00:00, 6692.53it/s]\n"
     ]
    },
    {
     "name": "stdout",
     "output_type": "stream",
     "text": [
      "spent: 0.0051991939544677734\n",
      "compressor=gzip\n"
     ]
    },
    {
     "name": "stderr",
     "output_type": "stream",
     "text": [
      "157it [00:00, 9470.95it/s]\n"
     ]
    },
    {
     "name": "stdout",
     "output_type": "stream",
     "text": [
      "spent: 0.017588138580322266\n",
      "compressor=gzip\n"
     ]
    },
    {
     "name": "stderr",
     "output_type": "stream",
     "text": [
      "116it [00:00, 8950.48it/s]\n"
     ]
    },
    {
     "name": "stdout",
     "output_type": "stream",
     "text": [
      "spent: 0.014070749282836914\n",
      "compressor=gzip\n"
     ]
    },
    {
     "name": "stderr",
     "output_type": "stream",
     "text": [
      "72it [00:00, 7702.45it/s]\n"
     ]
    },
    {
     "name": "stdout",
     "output_type": "stream",
     "text": [
      "spent: 0.010323286056518555\n",
      "compressor=gzip\n"
     ]
    },
    {
     "name": "stderr",
     "output_type": "stream",
     "text": [
      "21it [00:00, 6460.82it/s]\n"
     ]
    },
    {
     "name": "stdout",
     "output_type": "stream",
     "text": [
      "spent: 0.004235506057739258\n",
      "compressor=gzip\n"
     ]
    },
    {
     "name": "stderr",
     "output_type": "stream",
     "text": [
      "55it [00:00, 7944.58it/s]\n"
     ]
    },
    {
     "name": "stdout",
     "output_type": "stream",
     "text": [
      "spent: 0.007894277572631836\n",
      "compressor=gzip\n"
     ]
    },
    {
     "name": "stderr",
     "output_type": "stream",
     "text": [
      "160it [00:00, 9629.63it/s]\n"
     ]
    },
    {
     "name": "stdout",
     "output_type": "stream",
     "text": [
      "spent: 0.01760077476501465\n",
      "compressor=gzip\n"
     ]
    },
    {
     "name": "stderr",
     "output_type": "stream",
     "text": [
      "20it [00:00, 7026.81it/s]\n"
     ]
    },
    {
     "name": "stdout",
     "output_type": "stream",
     "text": [
      "spent: 0.003807544708251953\n",
      "compressor=gzip\n"
     ]
    },
    {
     "name": "stderr",
     "output_type": "stream",
     "text": [
      "71it [00:00, 9058.15it/s]\n"
     ]
    },
    {
     "name": "stdout",
     "output_type": "stream",
     "text": [
      "spent: 0.008807182312011719\n",
      "compressor=gzip\n"
     ]
    },
    {
     "name": "stderr",
     "output_type": "stream",
     "text": [
      "58it [00:00, 9279.79it/s]\n"
     ]
    },
    {
     "name": "stdout",
     "output_type": "stream",
     "text": [
      "spent: 0.007232189178466797\n",
      "compressor=gzip\n"
     ]
    },
    {
     "name": "stderr",
     "output_type": "stream",
     "text": [
      "55it [00:00, 8076.42it/s]\n"
     ]
    },
    {
     "name": "stdout",
     "output_type": "stream",
     "text": [
      "spent: 0.0077893733978271484\n",
      "compressor=gzip\n"
     ]
    },
    {
     "name": "stderr",
     "output_type": "stream",
     "text": [
      "27it [00:00, 8081.51it/s]\n"
     ]
    },
    {
     "name": "stdout",
     "output_type": "stream",
     "text": [
      "spent: 0.0043141841888427734\n",
      "compressor=gzip\n"
     ]
    },
    {
     "name": "stderr",
     "output_type": "stream",
     "text": [
      "58it [00:00, 7987.31it/s]\n"
     ]
    },
    {
     "name": "stdout",
     "output_type": "stream",
     "text": [
      "spent: 0.008227348327636719\n",
      "compressor=gzip\n"
     ]
    },
    {
     "name": "stderr",
     "output_type": "stream",
     "text": [
      "23it [00:00, 7168.15it/s]\n"
     ]
    },
    {
     "name": "stdout",
     "output_type": "stream",
     "text": [
      "spent: 0.004160165786743164\n",
      "compressor=gzip\n"
     ]
    },
    {
     "name": "stderr",
     "output_type": "stream",
     "text": [
      "37it [00:00, 7473.24it/s]\n"
     ]
    },
    {
     "name": "stdout",
     "output_type": "stream",
     "text": [
      "spent: 0.005906105041503906\n",
      "compressor=gzip\n"
     ]
    },
    {
     "name": "stderr",
     "output_type": "stream",
     "text": [
      "206it [00:00, 8632.24it/s]\n"
     ]
    },
    {
     "name": "stdout",
     "output_type": "stream",
     "text": [
      "spent: 0.024985551834106445\n",
      "compressor=gzip\n"
     ]
    },
    {
     "name": "stderr",
     "output_type": "stream",
     "text": [
      "172it [00:00, 7880.84it/s]\n"
     ]
    },
    {
     "name": "stdout",
     "output_type": "stream",
     "text": [
      "spent: 0.02275824546813965\n",
      "compressor=gzip\n"
     ]
    },
    {
     "name": "stderr",
     "output_type": "stream",
     "text": [
      "35it [00:00, 8164.66it/s]\n"
     ]
    },
    {
     "name": "stdout",
     "output_type": "stream",
     "text": [
      "spent: 0.005511760711669922\n",
      "compressor=gzip\n"
     ]
    },
    {
     "name": "stderr",
     "output_type": "stream",
     "text": [
      "37it [00:00, 7934.82it/s]\n"
     ]
    },
    {
     "name": "stdout",
     "output_type": "stream",
     "text": [
      "spent: 0.005632877349853516\n",
      "compressor=gzip\n"
     ]
    },
    {
     "name": "stderr",
     "output_type": "stream",
     "text": [
      "142it [00:00, 9882.05it/s]\n"
     ]
    },
    {
     "name": "stdout",
     "output_type": "stream",
     "text": [
      "spent: 0.015326976776123047\n",
      "compressor=gzip\n"
     ]
    },
    {
     "name": "stderr",
     "output_type": "stream",
     "text": [
      "82it [00:00, 9546.00it/s]\n"
     ]
    },
    {
     "name": "stdout",
     "output_type": "stream",
     "text": [
      "spent: 0.009542703628540039\n",
      "compressor=gzip\n"
     ]
    },
    {
     "name": "stderr",
     "output_type": "stream",
     "text": [
      "54it [00:00, 8016.30it/s]\n"
     ]
    },
    {
     "name": "stdout",
     "output_type": "stream",
     "text": [
      "spent: 0.007693290710449219\n",
      "compressor=gzip\n"
     ]
    },
    {
     "name": "stderr",
     "output_type": "stream",
     "text": [
      "69it [00:00, 8775.76it/s]\n"
     ]
    },
    {
     "name": "stdout",
     "output_type": "stream",
     "text": [
      "spent: 0.00882411003112793\n",
      "compressor=gzip\n"
     ]
    },
    {
     "name": "stderr",
     "output_type": "stream",
     "text": [
      "47it [00:00, 6770.12it/s]\n"
     ]
    },
    {
     "name": "stdout",
     "output_type": "stream",
     "text": [
      "spent: 0.007920265197753906\n",
      "compressor=gzip\n"
     ]
    },
    {
     "name": "stderr",
     "output_type": "stream",
     "text": [
      "37it [00:00, 7815.74it/s]\n"
     ]
    },
    {
     "name": "stdout",
     "output_type": "stream",
     "text": [
      "spent: 0.005698680877685547\n",
      "compressor=gzip\n"
     ]
    },
    {
     "name": "stderr",
     "output_type": "stream",
     "text": [
      "58it [00:00, 8710.60it/s]\n"
     ]
    },
    {
     "name": "stdout",
     "output_type": "stream",
     "text": [
      "spent: 0.007608652114868164\n",
      "compressor=gzip\n"
     ]
    },
    {
     "name": "stderr",
     "output_type": "stream",
     "text": [
      "90it [00:00, 7674.38it/s]\n"
     ]
    },
    {
     "name": "stdout",
     "output_type": "stream",
     "text": [
      "spent: 0.012690544128417969\n",
      "compressor=gzip\n"
     ]
    },
    {
     "name": "stderr",
     "output_type": "stream",
     "text": [
      "21it [00:00, 8237.20it/s]\n"
     ]
    },
    {
     "name": "stdout",
     "output_type": "stream",
     "text": [
      "spent: 0.0035066604614257812\n",
      "compressor=gzip\n"
     ]
    },
    {
     "name": "stderr",
     "output_type": "stream",
     "text": [
      "123it [00:00, 7756.95it/s]\n"
     ]
    },
    {
     "name": "stdout",
     "output_type": "stream",
     "text": [
      "spent: 0.01689600944519043\n",
      "compressor=gzip\n"
     ]
    },
    {
     "name": "stderr",
     "output_type": "stream",
     "text": [
      "50it [00:00, 9065.24it/s]\n"
     ]
    },
    {
     "name": "stdout",
     "output_type": "stream",
     "text": [
      "spent: 0.006413698196411133\n",
      "compressor=gzip\n"
     ]
    },
    {
     "name": "stderr",
     "output_type": "stream",
     "text": [
      "72it [00:00, 9388.19it/s]\n"
     ]
    },
    {
     "name": "stdout",
     "output_type": "stream",
     "text": [
      "spent: 0.00867152214050293\n",
      "compressor=gzip\n"
     ]
    },
    {
     "name": "stderr",
     "output_type": "stream",
     "text": [
      "102it [00:00, 8760.50it/s]\n"
     ]
    },
    {
     "name": "stdout",
     "output_type": "stream",
     "text": [
      "spent: 0.012816190719604492\n",
      "compressor=gzip\n"
     ]
    },
    {
     "name": "stderr",
     "output_type": "stream",
     "text": [
      "144it [00:00, 9253.98it/s]\n"
     ]
    },
    {
     "name": "stdout",
     "output_type": "stream",
     "text": [
      "spent: 0.016741037368774414\n",
      "compressor=gzip\n"
     ]
    },
    {
     "name": "stderr",
     "output_type": "stream",
     "text": [
      "25it [00:00, 7330.14it/s]\n"
     ]
    },
    {
     "name": "stdout",
     "output_type": "stream",
     "text": [
      "spent: 0.004353523254394531\n",
      "compressor=gzip\n"
     ]
    },
    {
     "name": "stderr",
     "output_type": "stream",
     "text": [
      "45it [00:00, 8077.36it/s]\n"
     ]
    },
    {
     "name": "stdout",
     "output_type": "stream",
     "text": [
      "spent: 0.006543874740600586\n",
      "compressor=gzip\n"
     ]
    },
    {
     "name": "stderr",
     "output_type": "stream",
     "text": [
      "57it [00:00, 8263.92it/s]\n"
     ]
    },
    {
     "name": "stdout",
     "output_type": "stream",
     "text": [
      "spent: 0.007855653762817383\n",
      "compressor=gzip\n"
     ]
    },
    {
     "name": "stderr",
     "output_type": "stream",
     "text": [
      "173it [00:00, 9853.40it/s]\n"
     ]
    },
    {
     "name": "stdout",
     "output_type": "stream",
     "text": [
      "spent: 0.01848578453063965\n",
      "compressor=gzip\n"
     ]
    },
    {
     "name": "stderr",
     "output_type": "stream",
     "text": [
      "82it [00:00, 8043.33it/s]\n"
     ]
    },
    {
     "name": "stdout",
     "output_type": "stream",
     "text": [
      "spent: 0.011152982711791992\n",
      "compressor=gzip\n"
     ]
    },
    {
     "name": "stderr",
     "output_type": "stream",
     "text": [
      "50it [00:00, 8319.06it/s]\n"
     ]
    },
    {
     "name": "stdout",
     "output_type": "stream",
     "text": [
      "spent: 0.0069735050201416016\n",
      "compressor=gzip\n"
     ]
    },
    {
     "name": "stderr",
     "output_type": "stream",
     "text": [
      "27it [00:00, 7944.87it/s]\n"
     ]
    },
    {
     "name": "stdout",
     "output_type": "stream",
     "text": [
      "spent: 0.0043828487396240234\n",
      "compressor=gzip\n"
     ]
    },
    {
     "name": "stderr",
     "output_type": "stream",
     "text": [
      "153it [00:00, 8302.01it/s]\n"
     ]
    },
    {
     "name": "stdout",
     "output_type": "stream",
     "text": [
      "spent: 0.019387245178222656\n",
      "compressor=gzip\n"
     ]
    },
    {
     "name": "stderr",
     "output_type": "stream",
     "text": [
      "88it [00:00, 8665.92it/s]\n"
     ]
    },
    {
     "name": "stdout",
     "output_type": "stream",
     "text": [
      "spent: 0.011101007461547852\n",
      "compressor=gzip\n"
     ]
    },
    {
     "name": "stderr",
     "output_type": "stream",
     "text": [
      "131it [00:00, 9774.85it/s]\n"
     ]
    },
    {
     "name": "stdout",
     "output_type": "stream",
     "text": [
      "spent: 0.014373064041137695\n",
      "compressor=gzip\n"
     ]
    },
    {
     "name": "stderr",
     "output_type": "stream",
     "text": [
      "39it [00:00, 7438.74it/s]\n"
     ]
    },
    {
     "name": "stdout",
     "output_type": "stream",
     "text": [
      "spent: 0.006205320358276367\n",
      "compressor=gzip\n"
     ]
    },
    {
     "name": "stderr",
     "output_type": "stream",
     "text": [
      "129it [00:00, 8000.14it/s]\n"
     ]
    },
    {
     "name": "stdout",
     "output_type": "stream",
     "text": [
      "spent: 0.017085552215576172\n",
      "compressor=gzip\n"
     ]
    },
    {
     "name": "stderr",
     "output_type": "stream",
     "text": [
      "37it [00:00, 7773.07it/s]\n"
     ]
    },
    {
     "name": "stdout",
     "output_type": "stream",
     "text": [
      "spent: 0.005899190902709961\n",
      "compressor=gzip\n"
     ]
    },
    {
     "name": "stderr",
     "output_type": "stream",
     "text": [
      "24it [00:00, 7543.71it/s]\n"
     ]
    },
    {
     "name": "stdout",
     "output_type": "stream",
     "text": [
      "spent: 0.004117012023925781\n",
      "compressor=gzip\n"
     ]
    },
    {
     "name": "stderr",
     "output_type": "stream",
     "text": [
      "49it [00:00, 7443.98it/s]\n"
     ]
    },
    {
     "name": "stdout",
     "output_type": "stream",
     "text": [
      "spent: 0.0075418949127197266\n",
      "compressor=gzip\n"
     ]
    },
    {
     "name": "stderr",
     "output_type": "stream",
     "text": [
      "80it [00:00, 8200.21it/s]\n"
     ]
    },
    {
     "name": "stdout",
     "output_type": "stream",
     "text": [
      "spent: 0.010716438293457031\n",
      "compressor=gzip\n"
     ]
    },
    {
     "name": "stderr",
     "output_type": "stream",
     "text": [
      "77it [00:00, 8217.64it/s]\n"
     ]
    },
    {
     "name": "stdout",
     "output_type": "stream",
     "text": [
      "spent: 0.010336875915527344\n",
      "compressor=gzip\n"
     ]
    },
    {
     "name": "stderr",
     "output_type": "stream",
     "text": [
      "39it [00:00, 8043.36it/s]\n"
     ]
    },
    {
     "name": "stdout",
     "output_type": "stream",
     "text": [
      "spent: 0.005823373794555664\n",
      "compressor=gzip\n"
     ]
    },
    {
     "name": "stderr",
     "output_type": "stream",
     "text": [
      "51it [00:00, 9289.91it/s]\n"
     ]
    },
    {
     "name": "stdout",
     "output_type": "stream",
     "text": [
      "spent: 0.006455183029174805\n",
      "compressor=gzip\n"
     ]
    },
    {
     "name": "stderr",
     "output_type": "stream",
     "text": [
      "31it [00:00, 7164.22it/s]\n"
     ]
    },
    {
     "name": "stdout",
     "output_type": "stream",
     "text": [
      "spent: 0.005278825759887695\n",
      "compressor=gzip\n"
     ]
    },
    {
     "name": "stderr",
     "output_type": "stream",
     "text": [
      "35it [00:00, 7603.89it/s]\n"
     ]
    },
    {
     "name": "stdout",
     "output_type": "stream",
     "text": [
      "spent: 0.005550861358642578\n",
      "compressor=gzip\n"
     ]
    },
    {
     "name": "stderr",
     "output_type": "stream",
     "text": [
      "32it [00:00, 6674.51it/s]\n"
     ]
    },
    {
     "name": "stdout",
     "output_type": "stream",
     "text": [
      "spent: 0.005741119384765625\n",
      "compressor=gzip\n"
     ]
    },
    {
     "name": "stderr",
     "output_type": "stream",
     "text": [
      "27it [00:00, 8035.07it/s]\n"
     ]
    },
    {
     "name": "stdout",
     "output_type": "stream",
     "text": [
      "spent: 0.004305124282836914\n",
      "compressor=gzip\n"
     ]
    },
    {
     "name": "stderr",
     "output_type": "stream",
     "text": [
      "87it [00:00, 9562.74it/s]\n"
     ]
    },
    {
     "name": "stdout",
     "output_type": "stream",
     "text": [
      "spent: 0.01008462905883789\n",
      "compressor=gzip\n"
     ]
    },
    {
     "name": "stderr",
     "output_type": "stream",
     "text": [
      "94it [00:00, 9402.47it/s]\n"
     ]
    },
    {
     "name": "stdout",
     "output_type": "stream",
     "text": [
      "spent: 0.01096487045288086\n",
      "compressor=gzip\n"
     ]
    },
    {
     "name": "stderr",
     "output_type": "stream",
     "text": [
      "83it [00:00, 8320.84it/s]\n"
     ]
    },
    {
     "name": "stdout",
     "output_type": "stream",
     "text": [
      "spent: 0.010937690734863281\n",
      "compressor=gzip\n"
     ]
    },
    {
     "name": "stderr",
     "output_type": "stream",
     "text": [
      "65it [00:00, 7509.22it/s]\n"
     ]
    },
    {
     "name": "stdout",
     "output_type": "stream",
     "text": [
      "spent: 0.009654045104980469\n",
      "compressor=gzip\n"
     ]
    },
    {
     "name": "stderr",
     "output_type": "stream",
     "text": [
      "27it [00:00, 7043.11it/s]\n"
     ]
    },
    {
     "name": "stdout",
     "output_type": "stream",
     "text": [
      "spent: 0.004805564880371094\n",
      "compressor=gzip\n"
     ]
    },
    {
     "name": "stderr",
     "output_type": "stream",
     "text": [
      "46it [00:00, 8746.06it/s]\n"
     ]
    },
    {
     "name": "stdout",
     "output_type": "stream",
     "text": [
      "spent: 0.00624847412109375\n",
      "compressor=gzip\n"
     ]
    },
    {
     "name": "stderr",
     "output_type": "stream",
     "text": [
      "30it [00:00, 7860.88it/s]\n"
     ]
    },
    {
     "name": "stdout",
     "output_type": "stream",
     "text": [
      "spent: 0.004766941070556641\n",
      "compressor=gzip\n"
     ]
    },
    {
     "name": "stderr",
     "output_type": "stream",
     "text": [
      "60it [00:00, 8125.08it/s]\n"
     ]
    },
    {
     "name": "stdout",
     "output_type": "stream",
     "text": [
      "spent: 0.008365392684936523\n",
      "compressor=gzip\n"
     ]
    },
    {
     "name": "stderr",
     "output_type": "stream",
     "text": [
      "130it [00:00, 8341.13it/s]\n"
     ]
    },
    {
     "name": "stdout",
     "output_type": "stream",
     "text": [
      "spent: 0.01656818389892578\n",
      "compressor=gzip\n"
     ]
    },
    {
     "name": "stderr",
     "output_type": "stream",
     "text": [
      "86it [00:00, 7498.24it/s]\n"
     ]
    },
    {
     "name": "stdout",
     "output_type": "stream",
     "text": [
      "spent: 0.012479305267333984\n",
      "compressor=gzip\n"
     ]
    },
    {
     "name": "stderr",
     "output_type": "stream",
     "text": [
      "75it [00:00, 7915.57it/s]\n"
     ]
    },
    {
     "name": "stdout",
     "output_type": "stream",
     "text": [
      "spent: 0.010519266128540039\n",
      "compressor=gzip\n"
     ]
    },
    {
     "name": "stderr",
     "output_type": "stream",
     "text": [
      "150it [00:00, 10181.50it/s]\n"
     ]
    },
    {
     "name": "stdout",
     "output_type": "stream",
     "text": [
      "spent: 0.015772104263305664\n",
      "compressor=gzip\n"
     ]
    },
    {
     "name": "stderr",
     "output_type": "stream",
     "text": [
      "47it [00:00, 8649.57it/s]\n"
     ]
    },
    {
     "name": "stdout",
     "output_type": "stream",
     "text": [
      "spent: 0.006406545639038086\n",
      "compressor=gzip\n"
     ]
    },
    {
     "name": "stderr",
     "output_type": "stream",
     "text": [
      "26it [00:00, 7158.46it/s]\n"
     ]
    },
    {
     "name": "stdout",
     "output_type": "stream",
     "text": [
      "spent: 0.004602909088134766\n",
      "compressor=gzip\n"
     ]
    },
    {
     "name": "stderr",
     "output_type": "stream",
     "text": [
      "21it [00:00, 7403.58it/s]\n"
     ]
    },
    {
     "name": "stdout",
     "output_type": "stream",
     "text": [
      "spent: 0.0037767887115478516\n",
      "compressor=gzip\n"
     ]
    },
    {
     "name": "stderr",
     "output_type": "stream",
     "text": [
      "92it [00:00, 7984.03it/s]\n"
     ]
    },
    {
     "name": "stdout",
     "output_type": "stream",
     "text": [
      "spent: 0.012498855590820312\n",
      "compressor=gzip\n"
     ]
    },
    {
     "name": "stderr",
     "output_type": "stream",
     "text": [
      "34it [00:00, 7024.94it/s]\n"
     ]
    },
    {
     "name": "stdout",
     "output_type": "stream",
     "text": [
      "spent: 0.005797147750854492\n",
      "compressor=gzip\n"
     ]
    },
    {
     "name": "stderr",
     "output_type": "stream",
     "text": [
      "105it [00:00, 8682.83it/s]\n"
     ]
    },
    {
     "name": "stdout",
     "output_type": "stream",
     "text": [
      "spent: 0.013042688369750977\n",
      "compressor=gzip\n"
     ]
    },
    {
     "name": "stderr",
     "output_type": "stream",
     "text": [
      "67it [00:00, 7908.66it/s]\n"
     ]
    },
    {
     "name": "stdout",
     "output_type": "stream",
     "text": [
      "spent: 0.009431600570678711\n",
      "compressor=gzip\n"
     ]
    },
    {
     "name": "stderr",
     "output_type": "stream",
     "text": [
      "29it [00:00, 6924.45it/s]\n"
     ]
    },
    {
     "name": "stdout",
     "output_type": "stream",
     "text": [
      "spent: 0.005162239074707031\n",
      "compressor=gzip\n"
     ]
    },
    {
     "name": "stderr",
     "output_type": "stream",
     "text": [
      "49it [00:00, 9717.30it/s]\n"
     ]
    },
    {
     "name": "stdout",
     "output_type": "stream",
     "text": [
      "spent: 0.006184816360473633\n",
      "compressor=gzip\n"
     ]
    },
    {
     "name": "stderr",
     "output_type": "stream",
     "text": [
      "76it [00:00, 10008.07it/s]\n"
     ]
    },
    {
     "name": "stdout",
     "output_type": "stream",
     "text": [
      "spent: 0.008563995361328125\n",
      "compressor=gzip\n"
     ]
    },
    {
     "name": "stderr",
     "output_type": "stream",
     "text": [
      "30it [00:00, 7623.24it/s]\n"
     ]
    },
    {
     "name": "stdout",
     "output_type": "stream",
     "text": [
      "spent: 0.004877328872680664\n",
      "compressor=gzip\n"
     ]
    },
    {
     "name": "stderr",
     "output_type": "stream",
     "text": [
      "78it [00:00, 8958.51it/s]\n"
     ]
    },
    {
     "name": "stdout",
     "output_type": "stream",
     "text": [
      "spent: 0.009611368179321289\n",
      "compressor=gzip\n"
     ]
    },
    {
     "name": "stderr",
     "output_type": "stream",
     "text": [
      "27it [00:00, 7874.16it/s]\n"
     ]
    },
    {
     "name": "stdout",
     "output_type": "stream",
     "text": [
      "spent: 0.0043811798095703125\n",
      "compressor=gzip\n"
     ]
    },
    {
     "name": "stderr",
     "output_type": "stream",
     "text": [
      "61it [00:00, 8549.22it/s]\n"
     ]
    },
    {
     "name": "stdout",
     "output_type": "stream",
     "text": [
      "spent: 0.008109807968139648\n",
      "compressor=gzip\n"
     ]
    },
    {
     "name": "stderr",
     "output_type": "stream",
     "text": [
      "38it [00:00, 8384.20it/s]\n"
     ]
    },
    {
     "name": "stdout",
     "output_type": "stream",
     "text": [
      "spent: 0.005683422088623047\n",
      "compressor=gzip\n"
     ]
    },
    {
     "name": "stderr",
     "output_type": "stream",
     "text": [
      "35it [00:00, 7895.48it/s]\n"
     ]
    },
    {
     "name": "stdout",
     "output_type": "stream",
     "text": [
      "spent: 0.005383968353271484\n",
      "compressor=gzip\n"
     ]
    },
    {
     "name": "stderr",
     "output_type": "stream",
     "text": [
      "72it [00:00, 8309.44it/s]\n"
     ]
    },
    {
     "name": "stdout",
     "output_type": "stream",
     "text": [
      "spent: 0.009619951248168945\n",
      "compressor=gzip\n"
     ]
    },
    {
     "name": "stderr",
     "output_type": "stream",
     "text": [
      "80it [00:00, 8136.77it/s]\n"
     ]
    },
    {
     "name": "stdout",
     "output_type": "stream",
     "text": [
      "spent: 0.010988473892211914\n",
      "compressor=gzip\n"
     ]
    },
    {
     "name": "stderr",
     "output_type": "stream",
     "text": [
      "39it [00:00, 7058.38it/s]\n"
     ]
    },
    {
     "name": "stdout",
     "output_type": "stream",
     "text": [
      "spent: 0.006487607955932617\n",
      "compressor=gzip\n"
     ]
    },
    {
     "name": "stderr",
     "output_type": "stream",
     "text": [
      "81it [00:00, 9391.01it/s]\n"
     ]
    },
    {
     "name": "stdout",
     "output_type": "stream",
     "text": [
      "spent: 0.009603500366210938\n",
      "compressor=gzip\n"
     ]
    },
    {
     "name": "stderr",
     "output_type": "stream",
     "text": [
      "29it [00:00, 7419.47it/s]\n"
     ]
    },
    {
     "name": "stdout",
     "output_type": "stream",
     "text": [
      "spent: 0.005140781402587891\n",
      "compressor=gzip\n"
     ]
    },
    {
     "name": "stderr",
     "output_type": "stream",
     "text": [
      "19it [00:00, 7203.45it/s]\n"
     ]
    },
    {
     "name": "stdout",
     "output_type": "stream",
     "text": [
      "spent: 0.0035948753356933594\n",
      "compressor=gzip\n"
     ]
    },
    {
     "name": "stderr",
     "output_type": "stream",
     "text": [
      "70it [00:00, 9394.64it/s]\n"
     ]
    },
    {
     "name": "stdout",
     "output_type": "stream",
     "text": [
      "spent: 0.00839686393737793\n",
      "compressor=gzip\n"
     ]
    },
    {
     "name": "stderr",
     "output_type": "stream",
     "text": [
      "68it [00:00, 8430.01it/s]\n"
     ]
    },
    {
     "name": "stdout",
     "output_type": "stream",
     "text": [
      "spent: 0.009018421173095703\n",
      "compressor=gzip\n"
     ]
    },
    {
     "name": "stderr",
     "output_type": "stream",
     "text": [
      "79it [00:00, 8503.57it/s]\n"
     ]
    },
    {
     "name": "stdout",
     "output_type": "stream",
     "text": [
      "spent: 0.010301589965820312\n",
      "compressor=gzip\n"
     ]
    },
    {
     "name": "stderr",
     "output_type": "stream",
     "text": [
      "62it [00:00, 8369.17it/s]\n"
     ]
    },
    {
     "name": "stdout",
     "output_type": "stream",
     "text": [
      "spent: 0.008365392684936523\n",
      "compressor=gzip\n"
     ]
    },
    {
     "name": "stderr",
     "output_type": "stream",
     "text": [
      "50it [00:00, 8646.62it/s]\n"
     ]
    },
    {
     "name": "stdout",
     "output_type": "stream",
     "text": [
      "spent: 0.006819009780883789\n",
      "compressor=gzip\n"
     ]
    },
    {
     "name": "stderr",
     "output_type": "stream",
     "text": [
      "69it [00:00, 8256.03it/s]\n"
     ]
    },
    {
     "name": "stdout",
     "output_type": "stream",
     "text": [
      "spent: 0.009663105010986328\n",
      "compressor=gzip\n"
     ]
    },
    {
     "name": "stderr",
     "output_type": "stream",
     "text": [
      "77it [00:00, 7570.06it/s]\n"
     ]
    },
    {
     "name": "stdout",
     "output_type": "stream",
     "text": [
      "spent: 0.01122903823852539\n",
      "compressor=gzip\n"
     ]
    },
    {
     "name": "stderr",
     "output_type": "stream",
     "text": [
      "27it [00:00, 7676.15it/s]\n"
     ]
    },
    {
     "name": "stdout",
     "output_type": "stream",
     "text": [
      "spent: 0.004556179046630859\n",
      "compressor=gzip\n"
     ]
    },
    {
     "name": "stderr",
     "output_type": "stream",
     "text": [
      "57it [00:00, 8669.69it/s]\n"
     ]
    },
    {
     "name": "stdout",
     "output_type": "stream",
     "text": [
      "spent: 0.007592678070068359\n",
      "compressor=gzip\n"
     ]
    },
    {
     "name": "stderr",
     "output_type": "stream",
     "text": [
      "19it [00:00, 7353.00it/s]\n"
     ]
    },
    {
     "name": "stdout",
     "output_type": "stream",
     "text": [
      "spent: 0.003584146499633789\n",
      "compressor=gzip\n"
     ]
    },
    {
     "name": "stderr",
     "output_type": "stream",
     "text": [
      "21it [00:00, 7618.09it/s]\n"
     ]
    },
    {
     "name": "stdout",
     "output_type": "stream",
     "text": [
      "spent: 0.003798961639404297\n",
      "compressor=gzip\n"
     ]
    },
    {
     "name": "stderr",
     "output_type": "stream",
     "text": [
      "34it [00:00, 7627.23it/s]\n"
     ]
    },
    {
     "name": "stdout",
     "output_type": "stream",
     "text": [
      "spent: 0.005477190017700195\n",
      "compressor=gzip\n"
     ]
    },
    {
     "name": "stderr",
     "output_type": "stream",
     "text": [
      "49it [00:00, 8111.49it/s]\n"
     ]
    },
    {
     "name": "stdout",
     "output_type": "stream",
     "text": [
      "spent: 0.007053852081298828\n",
      "compressor=gzip\n"
     ]
    },
    {
     "name": "stderr",
     "output_type": "stream",
     "text": [
      "31it [00:00, 7690.51it/s]\n"
     ]
    },
    {
     "name": "stdout",
     "output_type": "stream",
     "text": [
      "spent: 0.0050466060638427734\n",
      "compressor=gzip\n"
     ]
    },
    {
     "name": "stderr",
     "output_type": "stream",
     "text": [
      "76it [00:00, 7353.51it/s]\n"
     ]
    },
    {
     "name": "stdout",
     "output_type": "stream",
     "text": [
      "spent: 0.011381864547729492\n",
      "compressor=gzip\n"
     ]
    },
    {
     "name": "stderr",
     "output_type": "stream",
     "text": [
      "101it [00:00, 6733.07it/s]\n"
     ]
    },
    {
     "name": "stdout",
     "output_type": "stream",
     "text": [
      "spent: 0.016039609909057617\n",
      "compressor=gzip\n"
     ]
    },
    {
     "name": "stderr",
     "output_type": "stream",
     "text": [
      "73it [00:00, 6871.90it/s]\n"
     ]
    },
    {
     "name": "stdout",
     "output_type": "stream",
     "text": [
      "spent: 0.011663198471069336\n",
      "compressor=gzip\n"
     ]
    },
    {
     "name": "stderr",
     "output_type": "stream",
     "text": [
      "74it [00:00, 7940.51it/s]\n"
     ]
    },
    {
     "name": "stdout",
     "output_type": "stream",
     "text": [
      "spent: 0.010540008544921875\n",
      "compressor=gzip\n"
     ]
    },
    {
     "name": "stderr",
     "output_type": "stream",
     "text": [
      "55it [00:00, 7568.96it/s]\n"
     ]
    },
    {
     "name": "stdout",
     "output_type": "stream",
     "text": [
      "spent: 0.008296489715576172\n",
      "compressor=gzip\n"
     ]
    },
    {
     "name": "stderr",
     "output_type": "stream",
     "text": [
      "63it [00:00, 7391.77it/s]\n"
     ]
    },
    {
     "name": "stdout",
     "output_type": "stream",
     "text": [
      "spent: 0.00957632064819336\n",
      "compressor=gzip\n"
     ]
    },
    {
     "name": "stderr",
     "output_type": "stream",
     "text": [
      "116it [00:00, 7838.30it/s]\n"
     ]
    },
    {
     "name": "stdout",
     "output_type": "stream",
     "text": [
      "spent: 0.016127586364746094\n",
      "compressor=gzip\n"
     ]
    },
    {
     "name": "stderr",
     "output_type": "stream",
     "text": [
      "26it [00:00, 7375.85it/s]\n"
     ]
    },
    {
     "name": "stdout",
     "output_type": "stream",
     "text": [
      "spent: 0.004568815231323242\n",
      "compressor=gzip\n"
     ]
    },
    {
     "name": "stderr",
     "output_type": "stream",
     "text": [
      "51it [00:00, 6550.19it/s]\n"
     ]
    },
    {
     "name": "stdout",
     "output_type": "stream",
     "text": [
      "spent: 0.008829116821289062\n",
      "compressor=gzip\n"
     ]
    },
    {
     "name": "stderr",
     "output_type": "stream",
     "text": [
      "43it [00:00, 6623.88it/s]\n"
     ]
    },
    {
     "name": "stdout",
     "output_type": "stream",
     "text": [
      "spent: 0.0075342655181884766\n",
      "compressor=gzip\n"
     ]
    },
    {
     "name": "stderr",
     "output_type": "stream",
     "text": [
      "38it [00:00, 7197.92it/s]\n"
     ]
    },
    {
     "name": "stdout",
     "output_type": "stream",
     "text": [
      "spent: 0.0063190460205078125\n",
      "compressor=gzip\n"
     ]
    },
    {
     "name": "stderr",
     "output_type": "stream",
     "text": [
      "140it [00:00, 7782.88it/s]\n"
     ]
    },
    {
     "name": "stdout",
     "output_type": "stream",
     "text": [
      "spent: 0.019041061401367188\n",
      "compressor=gzip\n"
     ]
    },
    {
     "name": "stderr",
     "output_type": "stream",
     "text": [
      "55it [00:00, 7294.67it/s]\n"
     ]
    },
    {
     "name": "stdout",
     "output_type": "stream",
     "text": [
      "spent: 0.008585929870605469\n",
      "compressor=gzip\n"
     ]
    },
    {
     "name": "stderr",
     "output_type": "stream",
     "text": [
      "47it [00:00, 6890.81it/s]\n"
     ]
    },
    {
     "name": "stdout",
     "output_type": "stream",
     "text": [
      "spent: 0.007830381393432617\n",
      "compressor=gzip\n"
     ]
    },
    {
     "name": "stderr",
     "output_type": "stream",
     "text": [
      "130it [00:00, 6810.81it/s]\n"
     ]
    },
    {
     "name": "stdout",
     "output_type": "stream",
     "text": [
      "spent: 0.02010822296142578\n",
      "compressor=gzip\n"
     ]
    },
    {
     "name": "stderr",
     "output_type": "stream",
     "text": [
      "43it [00:00, 6933.80it/s]\n"
     ]
    },
    {
     "name": "stdout",
     "output_type": "stream",
     "text": [
      "spent: 0.0072672367095947266\n",
      "compressor=gzip\n"
     ]
    },
    {
     "name": "stderr",
     "output_type": "stream",
     "text": [
      "30it [00:00, 6821.12it/s]\n"
     ]
    },
    {
     "name": "stdout",
     "output_type": "stream",
     "text": [
      "spent: 0.0054018497467041016\n",
      "compressor=gzip\n"
     ]
    },
    {
     "name": "stderr",
     "output_type": "stream",
     "text": [
      "58it [00:00, 7293.79it/s]\n"
     ]
    },
    {
     "name": "stdout",
     "output_type": "stream",
     "text": [
      "spent: 0.00896763801574707\n",
      "compressor=gzip\n"
     ]
    },
    {
     "name": "stderr",
     "output_type": "stream",
     "text": [
      "58it [00:00, 8475.41it/s]\n"
     ]
    },
    {
     "name": "stdout",
     "output_type": "stream",
     "text": [
      "spent: 0.008076906204223633\n",
      "compressor=gzip\n"
     ]
    },
    {
     "name": "stderr",
     "output_type": "stream",
     "text": [
      "71it [00:00, 7320.98it/s]\n"
     ]
    },
    {
     "name": "stdout",
     "output_type": "stream",
     "text": [
      "spent: 0.010720014572143555\n",
      "compressor=gzip\n"
     ]
    },
    {
     "name": "stderr",
     "output_type": "stream",
     "text": [
      "93it [00:00, 8211.66it/s]\n"
     ]
    },
    {
     "name": "stdout",
     "output_type": "stream",
     "text": [
      "spent: 0.012341499328613281\n",
      "compressor=gzip\n"
     ]
    },
    {
     "name": "stderr",
     "output_type": "stream",
     "text": [
      "129it [00:00, 7791.28it/s]\n"
     ]
    },
    {
     "name": "stdout",
     "output_type": "stream",
     "text": [
      "spent: 0.017581939697265625\n",
      "compressor=gzip\n"
     ]
    },
    {
     "name": "stderr",
     "output_type": "stream",
     "text": [
      "38it [00:00, 7603.45it/s]\n"
     ]
    },
    {
     "name": "stdout",
     "output_type": "stream",
     "text": [
      "spent: 0.006017208099365234\n",
      "compressor=gzip\n"
     ]
    },
    {
     "name": "stderr",
     "output_type": "stream",
     "text": [
      "84it [00:00, 8493.56it/s]\n"
     ]
    },
    {
     "name": "stdout",
     "output_type": "stream",
     "text": [
      "spent: 0.011089086532592773\n",
      "compressor=gzip\n"
     ]
    },
    {
     "name": "stderr",
     "output_type": "stream",
     "text": [
      "185it [00:00, 8611.48it/s]\n"
     ]
    },
    {
     "name": "stdout",
     "output_type": "stream",
     "text": [
      "spent: 0.022499799728393555\n",
      "compressor=gzip\n"
     ]
    },
    {
     "name": "stderr",
     "output_type": "stream",
     "text": [
      "57it [00:00, 8085.06it/s]\n"
     ]
    },
    {
     "name": "stdout",
     "output_type": "stream",
     "text": [
      "spent: 0.008093833923339844\n",
      "compressor=gzip\n"
     ]
    },
    {
     "name": "stderr",
     "output_type": "stream",
     "text": [
      "48it [00:00, 8036.03it/s]\n"
     ]
    },
    {
     "name": "stdout",
     "output_type": "stream",
     "text": [
      "spent: 0.007004737854003906\n",
      "compressor=gzip\n"
     ]
    },
    {
     "name": "stderr",
     "output_type": "stream",
     "text": [
      "98it [00:00, 7861.41it/s]\n"
     ]
    },
    {
     "name": "stdout",
     "output_type": "stream",
     "text": [
      "spent: 0.013495445251464844\n",
      "compressor=gzip\n"
     ]
    },
    {
     "name": "stderr",
     "output_type": "stream",
     "text": [
      "91it [00:00, 7870.37it/s]\n"
     ]
    },
    {
     "name": "stdout",
     "output_type": "stream",
     "text": [
      "spent: 0.012572765350341797\n",
      "compressor=gzip\n"
     ]
    },
    {
     "name": "stderr",
     "output_type": "stream",
     "text": [
      "97it [00:00, 8206.54it/s]\n"
     ]
    },
    {
     "name": "stdout",
     "output_type": "stream",
     "text": [
      "spent: 0.012830257415771484\n",
      "compressor=gzip\n"
     ]
    },
    {
     "name": "stderr",
     "output_type": "stream",
     "text": [
      "116it [00:00, 7457.34it/s]\n"
     ]
    },
    {
     "name": "stdout",
     "output_type": "stream",
     "text": [
      "spent: 0.016574382781982422\n",
      "compressor=gzip\n"
     ]
    },
    {
     "name": "stderr",
     "output_type": "stream",
     "text": [
      "74it [00:00, 7798.45it/s]\n"
     ]
    },
    {
     "name": "stdout",
     "output_type": "stream",
     "text": [
      "spent: 0.010499954223632812\n",
      "compressor=gzip\n"
     ]
    },
    {
     "name": "stderr",
     "output_type": "stream",
     "text": [
      "102it [00:00, 8455.09it/s]\n"
     ]
    },
    {
     "name": "stdout",
     "output_type": "stream",
     "text": [
      "spent: 0.013077497482299805\n",
      "compressor=gzip\n"
     ]
    },
    {
     "name": "stderr",
     "output_type": "stream",
     "text": [
      "115it [00:00, 9764.07it/s]\n"
     ]
    },
    {
     "name": "stdout",
     "output_type": "stream",
     "text": [
      "spent: 0.012801170349121094\n",
      "compressor=gzip\n"
     ]
    },
    {
     "name": "stderr",
     "output_type": "stream",
     "text": [
      "98it [00:00, 6912.22it/s]\n"
     ]
    },
    {
     "name": "stdout",
     "output_type": "stream",
     "text": [
      "spent: 0.015218734741210938\n",
      "compressor=gzip\n"
     ]
    },
    {
     "name": "stderr",
     "output_type": "stream",
     "text": [
      "108it [00:00, 7002.39it/s]\n"
     ]
    },
    {
     "name": "stdout",
     "output_type": "stream",
     "text": [
      "spent: 0.01644444465637207\n",
      "compressor=gzip\n"
     ]
    },
    {
     "name": "stderr",
     "output_type": "stream",
     "text": [
      "86it [00:00, 7446.53it/s]\n"
     ]
    },
    {
     "name": "stdout",
     "output_type": "stream",
     "text": [
      "spent: 0.012567520141601562\n",
      "compressor=gzip\n"
     ]
    },
    {
     "name": "stderr",
     "output_type": "stream",
     "text": [
      "104it [00:00, 8090.65it/s]\n"
     ]
    },
    {
     "name": "stdout",
     "output_type": "stream",
     "text": [
      "spent: 0.013853073120117188\n",
      "compressor=gzip\n"
     ]
    },
    {
     "name": "stderr",
     "output_type": "stream",
     "text": [
      "80it [00:00, 6522.26it/s]\n"
     ]
    },
    {
     "name": "stdout",
     "output_type": "stream",
     "text": [
      "spent: 0.013296842575073242\n",
      "compressor=gzip\n"
     ]
    },
    {
     "name": "stderr",
     "output_type": "stream",
     "text": [
      "113it [00:00, 7788.55it/s]\n"
     ]
    },
    {
     "name": "stdout",
     "output_type": "stream",
     "text": [
      "spent: 0.015539169311523438\n",
      "compressor=gzip\n"
     ]
    },
    {
     "name": "stderr",
     "output_type": "stream",
     "text": [
      "69it [00:00, 8063.95it/s]\n"
     ]
    },
    {
     "name": "stdout",
     "output_type": "stream",
     "text": [
      "spent: 0.009551525115966797\n",
      "compressor=gzip\n"
     ]
    },
    {
     "name": "stderr",
     "output_type": "stream",
     "text": [
      "109it [00:00, 7098.83it/s]\n"
     ]
    },
    {
     "name": "stdout",
     "output_type": "stream",
     "text": [
      "spent: 0.01636052131652832\n",
      "compressor=gzip\n"
     ]
    },
    {
     "name": "stderr",
     "output_type": "stream",
     "text": [
      "72it [00:00, 7630.44it/s]\n"
     ]
    },
    {
     "name": "stdout",
     "output_type": "stream",
     "text": [
      "spent: 0.010457515716552734\n",
      "compressor=gzip\n"
     ]
    },
    {
     "name": "stderr",
     "output_type": "stream",
     "text": [
      "32it [00:00, 6927.72it/s]\n"
     ]
    },
    {
     "name": "stdout",
     "output_type": "stream",
     "text": [
      "spent: 0.00567317008972168\n",
      "compressor=gzip\n"
     ]
    },
    {
     "name": "stderr",
     "output_type": "stream",
     "text": [
      "69it [00:00, 7732.37it/s]\n"
     ]
    },
    {
     "name": "stdout",
     "output_type": "stream",
     "text": [
      "spent: 0.010024785995483398\n",
      "compressor=gzip\n"
     ]
    },
    {
     "name": "stderr",
     "output_type": "stream",
     "text": [
      "49it [00:00, 7795.81it/s]\n"
     ]
    },
    {
     "name": "stdout",
     "output_type": "stream",
     "text": [
      "spent: 0.00731658935546875\n",
      "compressor=gzip\n"
     ]
    },
    {
     "name": "stderr",
     "output_type": "stream",
     "text": [
      "128it [00:00, 7975.38it/s]\n"
     ]
    },
    {
     "name": "stdout",
     "output_type": "stream",
     "text": [
      "spent: 0.01707315444946289\n",
      "compressor=gzip\n"
     ]
    },
    {
     "name": "stderr",
     "output_type": "stream",
     "text": [
      "56it [00:00, 6700.74it/s]\n"
     ]
    },
    {
     "name": "stdout",
     "output_type": "stream",
     "text": [
      "spent: 0.009395360946655273\n",
      "compressor=gzip\n"
     ]
    },
    {
     "name": "stderr",
     "output_type": "stream",
     "text": [
      "123it [00:00, 7769.92it/s]\n"
     ]
    },
    {
     "name": "stdout",
     "output_type": "stream",
     "text": [
      "spent: 0.016880273818969727\n",
      "compressor=gzip\n"
     ]
    },
    {
     "name": "stderr",
     "output_type": "stream",
     "text": [
      "111it [00:00, 7216.09it/s]\n"
     ]
    },
    {
     "name": "stdout",
     "output_type": "stream",
     "text": [
      "spent: 0.01640915870666504\n",
      "compressor=gzip\n"
     ]
    },
    {
     "name": "stderr",
     "output_type": "stream",
     "text": [
      "88it [00:00, 7734.51it/s]"
     ]
    },
    {
     "name": "stdout",
     "output_type": "stream",
     "text": [
      "spent: 0.01241755485534668\n"
     ]
    },
    {
     "name": "stderr",
     "output_type": "stream",
     "text": [
      "\n"
     ]
    }
   ],
   "source": [
    "\n",
    "# predicts = np.zeros((test.shape[0], 5))\n",
    "# for i, data in test.iterrows():\n",
    "#     dis_matrix = record_distance('gzip', data['prompt'], 'test_dis', np.array(data[['A', 'B', 'C', 'D', 'E']]), agg_by_jag_char, NCD, '/kaggle/working/', para=False)\n",
    "#     predicts[i, :] = dis_matrix[0, :]\n",
    "\n",
    "predicts = np.zeros((train.shape[0], 5))\n",
    "for i, data in train.iterrows():\n",
    "    dis_matrix = record_distance('gzip', data['prompt'], 'train_dis', np.array(data[['A', 'B', 'C', 'D', 'E']]), agg_by_jag_char, NCD, '/kaggle/working/', para=False)\n",
    "    predicts[i, :] = dis_matrix[0, :]"
   ]
  },
  {
   "cell_type": "code",
   "execution_count": 9,
   "metadata": {},
   "outputs": [],
   "source": [
    "def predictions_to_map_output(predictions):\n",
    "    sorted_answer_indices = np.argsort(predictions)\n",
    "    top_answer_indices = sorted_answer_indices[:,:3] # Get the first three answers in each row\n",
    "    top_answers = np.vectorize(index_to_option.get)(top_answer_indices)\n",
    "    return np.apply_along_axis(lambda row: ' '.join(row), 1, top_answers)"
   ]
  },
  {
   "cell_type": "code",
   "execution_count": 10,
   "metadata": {},
   "outputs": [],
   "source": [
    "train['prediction'] = predictions_to_map_output(predicts)"
   ]
  },
  {
   "cell_type": "code",
   "execution_count": 11,
   "metadata": {},
   "outputs": [
    {
     "data": {
      "text/plain": [
       "['A C E',\n",
       " 'E B C',\n",
       " 'A D E',\n",
       " 'E A B',\n",
       " 'D B A',\n",
       " 'E D B',\n",
       " 'E A C',\n",
       " 'C A D',\n",
       " 'C D E',\n",
       " 'D B E',\n",
       " 'A D C',\n",
       " 'C E B',\n",
       " 'B D E',\n",
       " 'C A B',\n",
       " 'E D C',\n",
       " 'B C A',\n",
       " 'D E B',\n",
       " 'C D B',\n",
       " 'C B E',\n",
       " 'C A B',\n",
       " 'A E C',\n",
       " 'A C B',\n",
       " 'D E B',\n",
       " 'A D E',\n",
       " 'B C D',\n",
       " 'C D A',\n",
       " 'D B C',\n",
       " 'A B D',\n",
       " 'D C A',\n",
       " 'D A E',\n",
       " 'A C D',\n",
       " 'E B C',\n",
       " 'C A D',\n",
       " 'B C E',\n",
       " 'A B D',\n",
       " 'C A E',\n",
       " 'A E B',\n",
       " 'B E C',\n",
       " 'B C D',\n",
       " 'B D E',\n",
       " 'C A B',\n",
       " 'D A B',\n",
       " 'A B C',\n",
       " 'A E B',\n",
       " 'E C B',\n",
       " 'E D C',\n",
       " 'E D A',\n",
       " 'B A D',\n",
       " 'C D A',\n",
       " 'E D C',\n",
       " 'C A D',\n",
       " 'D C E',\n",
       " 'D B E',\n",
       " 'B E A',\n",
       " 'D E A',\n",
       " 'D A C',\n",
       " 'E B D',\n",
       " 'E D A',\n",
       " 'D E B',\n",
       " 'E D A',\n",
       " 'E D A',\n",
       " 'A D B',\n",
       " 'B E C',\n",
       " 'B D C',\n",
       " 'E A C',\n",
       " 'A B D',\n",
       " 'B A D',\n",
       " 'B C D',\n",
       " 'A B C',\n",
       " 'B A E',\n",
       " 'B A C',\n",
       " 'A C E',\n",
       " 'A C B',\n",
       " 'A C D',\n",
       " 'B D A',\n",
       " 'A B C',\n",
       " 'C D E',\n",
       " 'B C D',\n",
       " 'A D B',\n",
       " 'B C D',\n",
       " 'A B E',\n",
       " 'E A C',\n",
       " 'A C B',\n",
       " 'E B C',\n",
       " 'C D E',\n",
       " 'B C D',\n",
       " 'A B C',\n",
       " 'C E D',\n",
       " 'B D C',\n",
       " 'D A B',\n",
       " 'E A C',\n",
       " 'E A C',\n",
       " 'B C D',\n",
       " 'B C D',\n",
       " 'E A C',\n",
       " 'A D E',\n",
       " 'A B D',\n",
       " 'A C E',\n",
       " 'A E B',\n",
       " 'A D E',\n",
       " 'B A C',\n",
       " 'D B A',\n",
       " 'A D B',\n",
       " 'A D C',\n",
       " 'B C A',\n",
       " 'A E C',\n",
       " 'C D E',\n",
       " 'A B C',\n",
       " 'B D A',\n",
       " 'B A C',\n",
       " 'B D C',\n",
       " 'A E C',\n",
       " 'A D B',\n",
       " 'A B D',\n",
       " 'E A B',\n",
       " 'D A B',\n",
       " 'B A E',\n",
       " 'A B D',\n",
       " 'C D E',\n",
       " 'D E A',\n",
       " 'B E A',\n",
       " 'A D E',\n",
       " 'A D B',\n",
       " 'D B C',\n",
       " 'B D E',\n",
       " 'A E B',\n",
       " 'E A C',\n",
       " 'E B D',\n",
       " 'A C D',\n",
       " 'B A C',\n",
       " 'A C D',\n",
       " 'D E C',\n",
       " 'B D C',\n",
       " 'D C A',\n",
       " 'B D A',\n",
       " 'A B D',\n",
       " 'A D C',\n",
       " 'C E A',\n",
       " 'D C E',\n",
       " 'C A D',\n",
       " 'B E D',\n",
       " 'B A D',\n",
       " 'A B D',\n",
       " 'C E B',\n",
       " 'B D E',\n",
       " 'A D B',\n",
       " 'B E A',\n",
       " 'E D B',\n",
       " 'D E C',\n",
       " 'C E A',\n",
       " 'C D A',\n",
       " 'A B D',\n",
       " 'E D B',\n",
       " 'B E C',\n",
       " 'B C A',\n",
       " 'D B A',\n",
       " 'E D A',\n",
       " 'D E B',\n",
       " 'C B A',\n",
       " 'E C B',\n",
       " 'C E D',\n",
       " 'A B D',\n",
       " 'C E D',\n",
       " 'E A D',\n",
       " 'A E D',\n",
       " 'E B A',\n",
       " 'D E A',\n",
       " 'B A C',\n",
       " 'C A E',\n",
       " 'E D B',\n",
       " 'A E D',\n",
       " 'D C A',\n",
       " 'D B E',\n",
       " 'A D E',\n",
       " 'E A B',\n",
       " 'B D A',\n",
       " 'C B D',\n",
       " 'A E B',\n",
       " 'B E C',\n",
       " 'B A D',\n",
       " 'E D C',\n",
       " 'A B E',\n",
       " 'B C D',\n",
       " 'A E C',\n",
       " 'B A E',\n",
       " 'B C D',\n",
       " 'C A E',\n",
       " 'C B E',\n",
       " 'A E B',\n",
       " 'A D C',\n",
       " 'C B E',\n",
       " 'B A C',\n",
       " 'C A D',\n",
       " 'D E A',\n",
       " 'B C A',\n",
       " 'D B A',\n",
       " 'A D B',\n",
       " 'B A C',\n",
       " 'E A D',\n",
       " 'C D B']"
      ]
     },
     "execution_count": 11,
     "metadata": {},
     "output_type": "execute_result"
    }
   ],
   "source": [
    "train['prediction'].tolist()"
   ]
  },
  {
   "cell_type": "code",
   "execution_count": 12,
   "metadata": {},
   "outputs": [],
   "source": [
    "predictions = train['prediction']"
   ]
  },
  {
   "cell_type": "code",
   "execution_count": 13,
   "metadata": {},
   "outputs": [
    {
     "data": {
      "text/plain": [
       "0      [A, C, E]\n",
       "1      [E, B, C]\n",
       "2      [A, D, E]\n",
       "3      [E, A, B]\n",
       "4      [D, B, A]\n",
       "         ...    \n",
       "195    [D, B, A]\n",
       "196    [A, D, B]\n",
       "197    [B, A, C]\n",
       "198    [E, A, D]\n",
       "199    [C, D, B]\n",
       "Name: prediction, Length: 200, dtype: object"
      ]
     },
     "execution_count": 13,
     "metadata": {},
     "output_type": "execute_result"
    }
   ],
   "source": [
    "predictions.str.split(\" \")"
   ]
  },
  {
   "cell_type": "code",
   "execution_count": 14,
   "metadata": {},
   "outputs": [],
   "source": [
    "def average_percision(lst, ans):\n",
    "    res = []\n",
    "    for i in range(len(lst)):\n",
    "        if lst[i] == ans:\n",
    "            res.append(1/(i+1))\n",
    "            # Once a correct label has been scored for an individual question in the test set, \n",
    "            # that label is no longer considered relevant for that question, \n",
    "            # and additional predictions of that label are skipped in the calculation.\n",
    "            return np.sum(res)\n",
    "        else:\n",
    "            res.append(0)\n",
    "    return 0"
   ]
  },
  {
   "cell_type": "code",
   "execution_count": 15,
   "metadata": {},
   "outputs": [],
   "source": [
    "maps = []\n",
    "\n",
    "for pred, ans in train[['prediction', 'answer']].to_numpy():\n",
    "    pred = pred.split(\" \")\n",
    "    maps.append(average_percision(pred, ans))\n"
   ]
  },
  {
   "cell_type": "code",
   "execution_count": 16,
   "metadata": {},
   "outputs": [
    {
     "data": {
      "text/html": [
       "<div>\n",
       "<style scoped>\n",
       "    .dataframe tbody tr th:only-of-type {\n",
       "        vertical-align: middle;\n",
       "    }\n",
       "\n",
       "    .dataframe tbody tr th {\n",
       "        vertical-align: top;\n",
       "    }\n",
       "\n",
       "    .dataframe thead th {\n",
       "        text-align: right;\n",
       "    }\n",
       "</style>\n",
       "<table border=\"1\" class=\"dataframe\">\n",
       "  <thead>\n",
       "    <tr style=\"text-align: right;\">\n",
       "      <th></th>\n",
       "      <th>prediction</th>\n",
       "      <th>answer</th>\n",
       "    </tr>\n",
       "  </thead>\n",
       "  <tbody>\n",
       "    <tr>\n",
       "      <th>0</th>\n",
       "      <td>A C E</td>\n",
       "      <td>D</td>\n",
       "    </tr>\n",
       "    <tr>\n",
       "      <th>1</th>\n",
       "      <td>E B C</td>\n",
       "      <td>A</td>\n",
       "    </tr>\n",
       "    <tr>\n",
       "      <th>2</th>\n",
       "      <td>A D E</td>\n",
       "      <td>A</td>\n",
       "    </tr>\n",
       "    <tr>\n",
       "      <th>3</th>\n",
       "      <td>E A B</td>\n",
       "      <td>C</td>\n",
       "    </tr>\n",
       "    <tr>\n",
       "      <th>4</th>\n",
       "      <td>D B A</td>\n",
       "      <td>D</td>\n",
       "    </tr>\n",
       "    <tr>\n",
       "      <th>...</th>\n",
       "      <td>...</td>\n",
       "      <td>...</td>\n",
       "    </tr>\n",
       "    <tr>\n",
       "      <th>195</th>\n",
       "      <td>D B A</td>\n",
       "      <td>C</td>\n",
       "    </tr>\n",
       "    <tr>\n",
       "      <th>196</th>\n",
       "      <td>A D B</td>\n",
       "      <td>B</td>\n",
       "    </tr>\n",
       "    <tr>\n",
       "      <th>197</th>\n",
       "      <td>B A C</td>\n",
       "      <td>B</td>\n",
       "    </tr>\n",
       "    <tr>\n",
       "      <th>198</th>\n",
       "      <td>E A D</td>\n",
       "      <td>D</td>\n",
       "    </tr>\n",
       "    <tr>\n",
       "      <th>199</th>\n",
       "      <td>C D B</td>\n",
       "      <td>C</td>\n",
       "    </tr>\n",
       "  </tbody>\n",
       "</table>\n",
       "<p>200 rows × 2 columns</p>\n",
       "</div>"
      ],
      "text/plain": [
       "    prediction answer\n",
       "0        A C E      D\n",
       "1        E B C      A\n",
       "2        A D E      A\n",
       "3        E A B      C\n",
       "4        D B A      D\n",
       "..         ...    ...\n",
       "195      D B A      C\n",
       "196      A D B      B\n",
       "197      B A C      B\n",
       "198      E A D      D\n",
       "199      C D B      C\n",
       "\n",
       "[200 rows x 2 columns]"
      ]
     },
     "execution_count": 16,
     "metadata": {},
     "output_type": "execute_result"
    }
   ],
   "source": [
    "train[['prediction', 'answer']]"
   ]
  },
  {
   "cell_type": "code",
   "execution_count": 17,
   "metadata": {},
   "outputs": [
    {
     "data": {
      "text/plain": [
       "0.21333333333333332"
      ]
     },
     "execution_count": 17,
     "metadata": {},
     "output_type": "execute_result"
    }
   ],
   "source": [
    "np.mean(maps)"
   ]
  },
  {
   "cell_type": "code",
   "execution_count": 18,
   "metadata": {},
   "outputs": [
    {
     "data": {
      "text/plain": [
       "[0,\n",
       " 0,\n",
       " 1.0,\n",
       " 0,\n",
       " 1.0,\n",
       " 0.3333333333333333,\n",
       " 0.5,\n",
       " 0.3333333333333333,\n",
       " 1.0,\n",
       " 0,\n",
       " 0,\n",
       " 0,\n",
       " 0,\n",
       " 0,\n",
       " 0,\n",
       " 1.0,\n",
       " 0.5,\n",
       " 0,\n",
       " 0,\n",
       " 0,\n",
       " 0,\n",
       " 0,\n",
       " 0,\n",
       " 0,\n",
       " 0,\n",
       " 0,\n",
       " 0,\n",
       " 0.3333333333333333,\n",
       " 0,\n",
       " 0,\n",
       " 0,\n",
       " 1.0,\n",
       " 0,\n",
       " 0,\n",
       " 0,\n",
       " 0,\n",
       " 0.5,\n",
       " 0,\n",
       " 0,\n",
       " 0.3333333333333333,\n",
       " 0,\n",
       " 0,\n",
       " 0.5,\n",
       " 0,\n",
       " 0,\n",
       " 0,\n",
       " 0,\n",
       " 0,\n",
       " 0.5,\n",
       " 0,\n",
       " 0,\n",
       " 0.3333333333333333,\n",
       " 0,\n",
       " 0.3333333333333333,\n",
       " 0,\n",
       " 0,\n",
       " 0,\n",
       " 0,\n",
       " 1.0,\n",
       " 0.3333333333333333,\n",
       " 0,\n",
       " 0.3333333333333333,\n",
       " 0.3333333333333333,\n",
       " 0.3333333333333333,\n",
       " 0.5,\n",
       " 0,\n",
       " 0,\n",
       " 0,\n",
       " 0.3333333333333333,\n",
       " 0,\n",
       " 0.3333333333333333,\n",
       " 1.0,\n",
       " 0,\n",
       " 0,\n",
       " 0.5,\n",
       " 0.5,\n",
       " 0.5,\n",
       " 1.0,\n",
       " 0,\n",
       " 0,\n",
       " 0,\n",
       " 0.5,\n",
       " 0.3333333333333333,\n",
       " 0,\n",
       " 1.0,\n",
       " 0.3333333333333333,\n",
       " 0,\n",
       " 0,\n",
       " 0,\n",
       " 1.0,\n",
       " 0,\n",
       " 0,\n",
       " 1.0,\n",
       " 0,\n",
       " 1.0,\n",
       " 0,\n",
       " 0,\n",
       " 0,\n",
       " 0,\n",
       " 0.5,\n",
       " 0,\n",
       " 0.5,\n",
       " 0,\n",
       " 0,\n",
       " 0.5,\n",
       " 0,\n",
       " 0,\n",
       " 0,\n",
       " 0.3333333333333333,\n",
       " 0,\n",
       " 0.3333333333333333,\n",
       " 0,\n",
       " 1.0,\n",
       " 0.5,\n",
       " 0,\n",
       " 0,\n",
       " 1.0,\n",
       " 0,\n",
       " 0.5,\n",
       " 0.3333333333333333,\n",
       " 0.3333333333333333,\n",
       " 0,\n",
       " 0.3333333333333333,\n",
       " 0,\n",
       " 1.0,\n",
       " 0,\n",
       " 0,\n",
       " 0,\n",
       " 0,\n",
       " 0,\n",
       " 1.0,\n",
       " 0.3333333333333333,\n",
       " 0,\n",
       " 0,\n",
       " 0,\n",
       " 0,\n",
       " 0,\n",
       " 0,\n",
       " 0,\n",
       " 0.5,\n",
       " 0,\n",
       " 0,\n",
       " 0.5,\n",
       " 0,\n",
       " 0,\n",
       " 0.3333333333333333,\n",
       " 1.0,\n",
       " 0,\n",
       " 0,\n",
       " 0,\n",
       " 0,\n",
       " 0.3333333333333333,\n",
       " 0,\n",
       " 0,\n",
       " 1.0,\n",
       " 0,\n",
       " 0.5,\n",
       " 0,\n",
       " 0.3333333333333333,\n",
       " 0,\n",
       " 0,\n",
       " 0,\n",
       " 0,\n",
       " 0,\n",
       " 0,\n",
       " 0,\n",
       " 0,\n",
       " 0,\n",
       " 0.3333333333333333,\n",
       " 0,\n",
       " 0,\n",
       " 0,\n",
       " 0.5,\n",
       " 0,\n",
       " 0.3333333333333333,\n",
       " 0,\n",
       " 0.3333333333333333,\n",
       " 0,\n",
       " 0.3333333333333333,\n",
       " 0,\n",
       " 0,\n",
       " 1.0,\n",
       " 0,\n",
       " 0.3333333333333333,\n",
       " 0.5,\n",
       " 0,\n",
       " 1.0,\n",
       " 0,\n",
       " 0,\n",
       " 0,\n",
       " 0.3333333333333333,\n",
       " 0.3333333333333333,\n",
       " 0,\n",
       " 0,\n",
       " 0,\n",
       " 0,\n",
       " 0.3333333333333333,\n",
       " 1.0,\n",
       " 0.3333333333333333,\n",
       " 1.0]"
      ]
     },
     "execution_count": 18,
     "metadata": {},
     "output_type": "execute_result"
    }
   ],
   "source": [
    "maps"
   ]
  },
  {
   "cell_type": "code",
   "execution_count": null,
   "metadata": {},
   "outputs": [],
   "source": []
  }
 ],
 "metadata": {
  "kernelspec": {
   "display_name": "llama2",
   "language": "python",
   "name": "python3"
  },
  "language_info": {
   "codemirror_mode": {
    "name": "ipython",
    "version": 3
   },
   "file_extension": ".py",
   "mimetype": "text/x-python",
   "name": "python",
   "nbconvert_exporter": "python",
   "pygments_lexer": "ipython3",
   "version": "3.10.12"
  },
  "orig_nbformat": 4
 },
 "nbformat": 4,
 "nbformat_minor": 2
}
